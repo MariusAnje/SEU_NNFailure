{
 "cells": [
  {
   "cell_type": "code",
   "execution_count": 1,
   "metadata": {},
   "outputs": [],
   "source": [
    "import matplotlib.pyplot as plt\n",
    "import numpy as np\n",
    "import pylab\n",
    "%matplotlib inline"
   ]
  },
  {
   "cell_type": "code",
   "execution_count": 2,
   "metadata": {
    "scrolled": true
   },
   "outputs": [
    {
     "name": "stdout",
     "output_type": "stream",
     "text": [
      "(1728, 2)\n"
     ]
    }
   ],
   "source": [
    "a =  np.load(\"features.0.weight.zero.npy\")\n",
    "print(a.shape)"
   ]
  },
  {
   "cell_type": "code",
   "execution_count": 3,
   "metadata": {},
   "outputs": [
    {
     "data": {
      "image/png": "[encoded data removed]",
      "text/plain": [
       "<Figure size 432x288 with 1 Axes>"
      ]
     },
     "metadata": {
      "needs_background": "light"
     },
     "output_type": "display_data"
    }
   ],
   "source": [
    "n, bins, patches = plt.hist(a[:,1],40,histtype='bar')\n",
    "#n, bins, patches = plt.hist(b.reshape(-1),int(len(b.reshape(-1))/300),histtype='bar')"
   ]
  },
  {
   "cell_type": "code",
   "execution_count": 4,
   "metadata": {},
   "outputs": [
    {
     "data": {
      "image/png": "[encoded data removed]",
      "text/plain": [
       "<Figure size 432x288 with 1 Axes>"
      ]
     },
     "metadata": {
      "needs_background": "light"
     },
     "output_type": "display_data"
    }
   ],
   "source": [
    "q = []\n",
    "for item in a:\n",
    "    if abs(item[1]) > 0.01:\n",
    "        q += [item[1]]\n",
    "        \n",
    "n, bins, patches = plt.hist(q,40,histtype='bar')"
   ]
  },
  {
   "cell_type": "code",
   "execution_count": 6,
   "metadata": {},
   "outputs": [
    {
     "name": "stdout",
     "output_type": "stream",
     "text": [
      "[1.5625, 1.5625, 1.5625, 1.5625, 3.125, 3.125, -1.5625, -1.5625, -1.5625, 1.5625, 1.5625, -1.5625, 1.5625, -1.5625, -1.5625, -1.5625, -1.5625, 1.5625, -1.5625, -1.5625, -1.5625, -1.5625, -1.5625]\n"
     ]
    }
   ],
   "source": [
    "fuccc = []\n",
    "for i in range(len(a)):\n",
    "    if a[i,1] != 0:\n",
    "        fuccc.append(a[i,1])\n",
    "print(fuccc)"
   ]
  },
  {
   "cell_type": "code",
   "execution_count": 6,
   "metadata": {},
   "outputs": [],
   "source": [
    "shape = [(64, 3, 3, 3),(160, 192, 1, 1),(96, 160, 1, 1),(192, 96, 5, 5),(192, 192, 1, 1),(192, 192, 1, 1),(192, 192, 3, 3),(192, 192, 1, 1),(10, 192, 1, 1)]\n",
    "b = np.zeros(shape[0])\n",
    "size0 = b.shape[0]\n",
    "size1 = b.shape[1]\n",
    "size2 = b.shape[2]\n",
    "size3 = b.shape[3]\n",
    "for t in range(len(a)):\n",
    "    i = a[t][0]\n",
    "    b[int(i/size1/size2/size3)][int(i/size2/size3%size1)][int(i/size3%size2)][int(i%size3)] = a[t][1]"
   ]
  },
  {
   "cell_type": "code",
   "execution_count": 16,
   "metadata": {},
   "outputs": [
    {
     "name": "stdout",
     "output_type": "stream",
     "text": [
      "[[3. 4. 1.]\n",
      " [4. 2. 3.]\n",
      " [5. 3. 7.]]\n"
     ]
    }
   ],
   "source": [
    "c = b.swapaxes(1,3)\n",
    "c = (c>1) * 1.0\n",
    "TheMap = np.zeros([size2,size3])\n",
    "for i in range(size0):\n",
    "    for j in range(size2):\n",
    "        for k in range(size3):\n",
    "            for l in range(size1):\n",
    "                TheMap[j][k] += c[i][j][k][l]\n",
    "print TheMap"
   ]
  },
  {
   "cell_type": "code",
   "execution_count": 13,
   "metadata": {},
   "outputs": [
    {
     "name": "stdout",
     "output_type": "stream",
     "text": [
      "0.18762371169715558\n",
      "0.08528872416070486\n"
     ]
    }
   ],
   "source": [
    "print(b.mean()*3)\n",
    "print(b.var())"
   ]
  },
  {
   "cell_type": "code",
   "execution_count": 43,
   "metadata": {},
   "outputs": [
    {
     "name": "stdout",
     "output_type": "stream",
     "text": [
      "[0.   0.   0.03 ... 0.   0.05 0.22]\n"
     ]
    }
   ],
   "source": []
  },
  {
   "cell_type": "code",
   "execution_count": null,
   "metadata": {},
   "outputs": [],
   "source": []
  }
 ],
 "metadata": {
  "kernelspec": {
   "display_name": "Python 2",
   "language": "python",
   "name": "python2"
  },
  "language_info": {
   "codemirror_mode": {
    "name": "ipython",
    "version": 3
   },
   "file_extension": ".py",
   "mimetype": "text/x-python",
   "name": "python",
   "nbconvert_exporter": "python",
   "pygments_lexer": "ipython3",
   "version": "3.5.2"
  }
 },
 "nbformat": 4,
 "nbformat_minor": 2
}
