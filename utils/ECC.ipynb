{
 "cells": [
  {
   "cell_type": "code",
   "execution_count": 27,
   "metadata": {},
   "outputs": [],
   "source": [
    "import numpy as np\n",
    "from matplotlib import pyplot as plt"
   ]
  },
  {
   "cell_type": "code",
   "execution_count": 28,
   "metadata": {},
   "outputs": [],
   "source": [
    "def find_k(num):\n",
    "    i = 0\n",
    "    ta = []\n",
    "    while True:\n",
    "        if 2**i - 1 >= i+num:\n",
    "            break\n",
    "        i += 1\n",
    "    return i\n",
    "\n",
    "def size_all(size, pType):\n",
    "    if pType == 0:\n",
    "        return find_k(size[2] * size[3] * 32) * size[0] * size[1]\n",
    "    else:\n",
    "        return find_k(size[2] * size[3] * 9) * size[0] * size[1]\n",
    "\n",
    "def ECC_L(size, pType):\n",
    "    def cell(x):\n",
    "        return find_k(x)*(np.ceil((x+find_k(x))/2.)-1)+find_k(x)*x\n",
    "\n",
    "    if pType == 0:\n",
    "        return cell(size[2] * size[3] * 32) * size[0] * size[1]\n",
    "    else:\n",
    "        return cell(size[2] * size[3] * 9) * size[0] * size[1]    \n",
    "\n",
    "def plotOvS(size, fSign, fFrac):\n",
    "    metric = ECC_L\n",
    "    length = len(size)\n",
    "    print(length)\n",
    "    iSign = fSign.argsort()[::-1]\n",
    "    iFrac = fFrac.argsort()[::-1]\n",
    "    i = 0\n",
    "    j = 0\n",
    "    openList = []\n",
    "    while True:\n",
    "        if (j == length and i < length) or (i < length and fSign[iSign[i]] > fFrac[iFrac[j]]):\n",
    "            openList += [(fSign[iSign[i]], iSign[i], 0)]\n",
    "            i += 1\n",
    "        else:\n",
    "            if j == length:\n",
    "                break\n",
    "            openList += [(fFrac[iFrac[j]], iFrac[j], 1)]\n",
    "            j += 1\n",
    "\n",
    "    openList += [(0., 0,0)]\n",
    "    acc = []\n",
    "    for i in range(length * 2):\n",
    "        acc  += [openList[i+1][0]]\n",
    "\n",
    "    overheadList = []\n",
    "    overhead = 0\n",
    "    print (openList)\n",
    "    for i in range(len(openList) - 1):\n",
    "        item = openList[i]\n",
    "        flag = False\n",
    "        for j in range(i):\n",
    "            if openList[j][1] == item[1]:\n",
    "                flag = True\n",
    "        overhead += metric(size[item[1]], item[0])\n",
    "        if flag:\n",
    "            overhead -= metric(size[item[1]], 1)\n",
    "        overheadList += [overhead]\n",
    "    print overheadList\n",
    "\n",
    "    plt.scatter(overheadList, acc)\n",
    "    plt.plot(overheadList, acc)\n",
    "    plt.xlabel('memory overhead')\n",
    "    plt.ylabel('SSIPP')\n",
    "    return overheadList, acc"
   ]
  },
  {
   "cell_type": "code",
   "execution_count": 29,
   "metadata": {},
   "outputs": [
    {
     "name": "stdout",
     "output_type": "stream",
     "text": [
      "9\n",
      "[(2.36, 8, 0), (0.96, 0, 0), (0.72, 8, 1), (0.28, 2, 0), (0.26, 4, 0), (0.24, 1, 0), (0.22, 4, 1), (0.22, 0, 1), (0.21, 7, 0), (0.2, 2, 1), (0.19, 5, 0), (0.13, 1, 1), (0.11, 3, 1), (0.08, 6, 0), (0.08, 3, 0), (0.0, 7, 1), (0.0, 6, 1), (0.0, 5, 1), (0.0, 0, 0)]\n",
      "[115200.0, 1686528.0, 1686528.0, 2608128.0, 4819968.0, 6663168.0, 6663168.0, 6663168.0, 8875008.0, 8875008.0, 11086848.0, 11086848.0, 61369344.0, 93367296.0, 93367296.0, 102214656.0, 214871040.0, 223718400.0]\n"
     ]
    },
    {
     "data": {
      "image/png": "[encoded data removed]",
      "text/plain": [
       "<Figure size 432x288 with 1 Axes>"
      ]
     },
     "metadata": {},
     "output_type": "display_data"
    }
   ],
   "source": [
    "sizeNIN = [\n",
    "    (192, 3, 5, 5),\n",
    "    (160, 192, 1, 1),\n",
    "    (96, 160, 1, 1),\n",
    "    (192, 96, 5, 5),\n",
    "    (192, 192, 1, 1),\n",
    "    (192, 192, 1, 1),\n",
    "    (192, 192, 3, 3),\n",
    "    (192, 192, 1, 1),\n",
    "    (10, 192, 1, 1),\n",
    "    ]\n",
    "\n",
    "fSignNIN = np.array([0.96, 0.24, 0.28, 0.08, 0.26, 0.19, 0.08, 0.21, 2.36])\n",
    "fFracNIN = np.array([0.22, 0.13, 0.20, 0.11, 0.22, 0.00, 0.00, 0.00, 0.72])\n",
    "(xNIN, yNIN) = plotOvS(sizeNIN, fSignNIN, fFracNIN)"
   ]
  },
  {
   "cell_type": "code",
   "execution_count": 30,
   "metadata": {},
   "outputs": [
    {
     "name": "stdout",
     "output_type": "stream",
     "text": [
      "5\n",
      "[(28.09, 0, 0), (6.43, 1, 0), (2.08, 2, 0), (0.9, 4, 0), (0.43, 0, 1), (0.41, 2, 1), (0.3, 4, 1), (0.27, 3, 0), (0.25, 3, 1), (0.22, 1, 1), (0.0, 0, 0)]\n",
      "[41664.0, 4041408.0, 19595968.0, 20978480.0, 20978480.0, 20978480.0, 20978480.0, 83196720.0, 83196720.0, 83196720.0]\n"
     ]
    },
    {
     "data": {
      "image/png": "[encoded data removed]",
      "text/plain": [
       "<Figure size 432x288 with 1 Axes>"
      ]
     },
     "metadata": {},
     "output_type": "display_data"
    }
   ],
   "source": [
    "sizeRes = [\n",
    "    (16, 3, 3, 3),\n",
    "    (16*9*2, 16, 3, 3),\n",
    "    (32*9*2 - 16, 32, 3, 3),\n",
    "    (64*9*2 - 32, 64, 3, 3),\n",
    "    (1, 1, 64, 100),\n",
    "    ]\n",
    "\n",
    "fSignRes = np.array([28.09, 6.43, 2.08, 0.27, 0.90])\n",
    "fFracRes = np.array([0.43, 0.22, 0.41, 0.25, 0.30])\n",
    "xRes, yRes = plotOvS(sizeRes, fSignRes, fFracRes)"
   ]
  },
  {
   "cell_type": "code",
   "execution_count": 14,
   "metadata": {},
   "outputs": [
    {
     "name": "stdout",
     "output_type": "stream",
     "text": [
      "6\n",
      "[(4.18, 0, 0), (0.88, 0, 1), (0.14, 3, 1), (0.14, 2, 1), (0.13, 1, 1), (0.12, 1, 0), (0.11, 2, 0), (0.09, 4, 1), (0.06, 4, 0), (0.06, 3, 0), (0.01, 5, 1), (0.01, 5, 0), (0.0, 0, 0)]\n",
      "[1344, 1344, 116032, 173376, 202048, 202048, 202048, 431424, 431424, 431424, 431450, 431450]\n"
     ]
    },
    {
     "data": {
      "image/png": "[encoded data removed]",
      "text/plain": [
       "<Figure size 432x288 with 1 Axes>"
      ]
     },
     "metadata": {},
     "output_type": "display_data"
    }
   ],
   "source": [
    "sizeV = [\n",
    "    (64, 3, 3, 3),\n",
    "    (64, 64, 3, 3),\n",
    "    (128, 64, 3, 3),\n",
    "    (128, 128, 3, 3),\n",
    "    (256, 128, 3, 3),\n",
    "    (1,1, 1000, 4096)\n",
    "    ]\n",
    "\n",
    "fSignV = np.array([4.18, 0.12, 0.11, 0.06,  0.06, 0.01])\n",
    "fFracV = np.array([0.88, 0.13, 0.14, 0.14, 0.09, 0.01])\n",
    "xV, yV = plotOvS(sizeV, fSignV, fFracV)"
   ]
  },
  {
   "cell_type": "code",
   "execution_count": 10,
   "metadata": {},
   "outputs": [],
   "source": [
    "xNIN, yNIN, xRes, yRes, xV, yV = np.array(xNIN), np.array(yNIN), np.array(xRes), np.array(yRes), np.array(xV), np.array(yV)"
   ]
  },
  {
   "cell_type": "code",
   "execution_count": 7,
   "metadata": {},
   "outputs": [],
   "source": [
    "xNIN = xNIN / float(xNIN.max())\n",
    "yNIN = yNIN / float(yNIN.max())\n",
    "xRes = xRes / float(xRes.max())\n",
    "yRes = yRes / float(yRes.max())\n",
    "xV   = xV / float(xV.max())\n",
    "yV   = yV / float(yV.max())"
   ]
  },
  {
   "cell_type": "code",
   "execution_count": 8,
   "metadata": {},
   "outputs": [
    {
     "data": {
      "image/png": "[encoded data removed]",
      "text/plain": [
       "<Figure size 432x288 with 1 Axes>"
      ]
     },
     "metadata": {},
     "output_type": "display_data"
    }
   ],
   "source": [
    "label = ['NIN', 'ResNet56', 'VGG16']\n",
    "plt.plot(xNIN, yNIN, marker = 'v')\n",
    "plt.plot(xRes, yRes, marker = 'o')\n",
    "plt.plot(xV,yV, marker = '^')\n",
    "plt.legend(label)\n",
    "plt.ylabel('normalized SSIPP')\n",
    "plt.xlabel('normalized memory overhead')\n",
    "#plt.scatter(xNIN, yNIN)\n",
    "#plt.scatter(xRes, yRes)\n",
    "#plt.scatter(xV,yV)\n",
    "plt.savefig('OVS')"
   ]
  },
  {
   "cell_type": "code",
   "execution_count": 15,
   "metadata": {},
   "outputs": [
    {
     "name": "stdout",
     "output_type": "stream",
     "text": [
      "[336, 32592, 158032, 158048, 158048, 158048, 158048, 659808, 659808, 659808]\n",
      "[6.43, 2.08, 0.9, 0.43, 0.41, 0.3, 0.27, 0.25, 0.22, 0.0]\n"
     ]
    }
   ],
   "source": [
    "print xRes\n",
    "print yRes"
   ]
  },
  {
   "cell_type": "code",
   "execution_count": 21,
   "metadata": {},
   "outputs": [
    {
     "data": {
      "text/plain": [
       "639648"
      ]
     },
     "execution_count": 21,
     "metadata": {},
     "output_type": "execute_result"
    }
   ],
   "source": [
    "659808/297*288"
   ]
  },
  {
   "cell_type": "code",
   "execution_count": 25,
   "metadata": {},
   "outputs": [
    {
     "data": {
      "text/plain": [
       "108"
      ]
     },
     "execution_count": 25,
     "metadata": {},
     "output_type": "execute_result"
    }
   ],
   "source": [
    "3592/297*9"
   ]
  },
  {
   "cell_type": "code",
   "execution_count": 33,
   "metadata": {},
   "outputs": [
    {
     "data": {
      "text/plain": [
       "0.005402971634398919"
      ]
     },
     "execution_count": 33,
     "metadata": {},
     "output_type": "execute_result"
    }
   ],
   "source": [
    "108./639648*32"
   ]
  },
  {
   "cell_type": "code",
   "execution_count": 38,
   "metadata": {},
   "outputs": [
    {
     "data": {
      "text/plain": [
       "0.23951210048983948"
      ]
     },
     "execution_count": 38,
     "metadata": {},
     "output_type": "execute_result"
    }
   ],
   "source": [
    "158032./659808"
   ]
  },
  {
   "cell_type": "code",
   "execution_count": 35,
   "metadata": {},
   "outputs": [
    {
     "data": {
      "text/plain": [
       "0.00015625"
      ]
     },
     "execution_count": 35,
     "metadata": {},
     "output_type": "execute_result"
    }
   ],
   "source": [
    "0.005/32"
   ]
  },
  {
   "cell_type": "code",
   "execution_count": null,
   "metadata": {},
   "outputs": [],
   "source": []
  }
 ],
 "metadata": {
  "kernelspec": {
   "display_name": "Python2 (py2env)",
   "language": "python",
   "name": "testenv"
  },
  "language_info": {
   "codemirror_mode": {
    "name": "ipython",
    "version": 2
   },
   "file_extension": ".py",
   "mimetype": "text/x-python",
   "name": "python",
   "nbconvert_exporter": "python",
   "pygments_lexer": "ipython2",
   "version": "2.7.12"
  }
 },
 "nbformat": 4,
 "nbformat_minor": 2
}
