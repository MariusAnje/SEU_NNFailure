{
 "cells": [
  {
   "cell_type": "code",
   "execution_count": 7,
   "metadata": {},
   "outputs": [],
   "source": [
    "import torch\n",
    "from matplotlib import pyplot as plt"
   ]
  },
  {
   "cell_type": "code",
   "execution_count": 2,
   "metadata": {},
   "outputs": [],
   "source": [
    "a = torch.load('good.pt')"
   ]
  },
  {
   "cell_type": "code",
   "execution_count": 6,
   "metadata": {},
   "outputs": [],
   "source": [
    "weight = a['classifier.0.weight']"
   ]
  },
  {
   "cell_type": "code",
   "execution_count": 13,
   "metadata": {},
   "outputs": [
    {
     "data": {
      "text/plain": [
       "(array([1.000e+00, 0.000e+00, 1.000e+00, 3.000e+00, 2.000e+00, 2.000e+00,\n",
       "        1.000e+00, 2.000e+00, 7.000e+00, 4.000e+00, 6.000e+00, 1.400e+01,\n",
       "        1.500e+01, 2.400e+01, 3.500e+01, 6.700e+01, 7.300e+01, 9.300e+01,\n",
       "        1.370e+02, 1.850e+02, 3.850e+02, 5.450e+02, 9.570e+02, 1.525e+03,\n",
       "        2.259e+03, 2.632e+03, 2.020e+03, 1.312e+03, 8.120e+02, 4.650e+02,\n",
       "        2.590e+02, 1.670e+02, 9.900e+01, 7.400e+01, 4.900e+01, 4.500e+01,\n",
       "        3.500e+01, 1.700e+01, 2.000e+01, 1.900e+01, 6.000e+00, 9.000e+00,\n",
       "        7.000e+00, 6.000e+00, 1.000e+00, 0.000e+00, 0.000e+00, 0.000e+00,\n",
       "        2.000e+00, 1.000e+00]),\n",
       " array([-1.3065847 , -1.2550937 , -1.2036026 , -1.1521115 , -1.1006204 ,\n",
       "        -1.0491294 , -0.9976382 , -0.94614714, -0.89465606, -0.843165  ,\n",
       "        -0.7916739 , -0.7401828 , -0.68869174, -0.6372007 , -0.58570963,\n",
       "        -0.53421855, -0.48272744, -0.43123636, -0.37974527, -0.32825422,\n",
       "        -0.27676314, -0.22527204, -0.17378098, -0.12228989, -0.07079881,\n",
       "        -0.01930773,  0.03218335,  0.08367442,  0.13516551,  0.18665658,\n",
       "         0.23814766,  0.28963876,  0.3411298 ,  0.3926209 ,  0.44411197,\n",
       "         0.49560305,  0.54709417,  0.59858525,  0.65007627,  0.70156735,\n",
       "         0.75305843,  0.8045495 ,  0.8560406 ,  0.9075317 ,  0.95902276,\n",
       "         1.0105139 ,  1.0620049 ,  1.1134961 ,  1.1649871 ,  1.2164782 ,\n",
       "         1.2679693 ], dtype=float32),\n",
       " <a list of 50 Patch objects>)"
      ]
     },
     "execution_count": 13,
     "metadata": {},
     "output_type": "execute_result"
    },
    {
     "data": {
      "image/png": "[encoded data removed]",
      "text/plain": [
       "<Figure size 432x288 with 1 Axes>"
      ]
     },
     "metadata": {},
     "output_type": "display_data"
    }
   ],
   "source": [
    "plt.hist(weight.view(-1).cpu().numpy(),bins = 50)"
   ]
  },
  {
   "cell_type": "code",
   "execution_count": null,
   "metadata": {},
   "outputs": [],
   "source": []
  }
 ],
 "metadata": {
  "kernelspec": {
   "display_name": "Python2 (py2env)",
   "language": "python",
   "name": "testenv"
  },
  "language_info": {
   "codemirror_mode": {
    "name": "ipython",
    "version": 2
   },
   "file_extension": ".py",
   "mimetype": "text/x-python",
   "name": "python",
   "nbconvert_exporter": "python",
   "pygments_lexer": "ipython2",
   "version": "2.7.12"
  }
 },
 "nbformat": 4,
 "nbformat_minor": 2
}
