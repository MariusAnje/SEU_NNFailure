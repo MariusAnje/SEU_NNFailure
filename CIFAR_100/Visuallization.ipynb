{
 "cells": [
  {
   "cell_type": "code",
   "execution_count": 1,
   "metadata": {},
   "outputs": [],
   "source": [
    "import matplotlib.pyplot as plt\n",
    "import numpy as np\n",
    "import pylab\n",
    "import scipy.stats as st\n",
    "%matplotlib inline"
   ]
  },
  {
   "cell_type": "code",
   "execution_count": 2,
   "metadata": {
    "scrolled": true
   },
   "outputs": [
    {
     "name": "stdout",
     "output_type": "stream",
     "text": [
      "(432, 2)\n",
      "[232 238 367 427 373 363 412 355 409 229]\n"
     ]
    }
   ],
   "source": [
    "a =  np.load(\"conv1.weight.res56.neg.npy\")\n",
    "print(a.shape)\n",
    "sss = np.argsort(a[:,1])\n",
    "print (sss[-10:])"
   ]
  },
  {
   "cell_type": "code",
   "execution_count": 4,
   "metadata": {},
   "outputs": [],
   "source": [
    "shape = [(192, 3, 5, 5),(160, 192, 1, 1),(96, 160, 1, 1),(192, 96, 5, 5),(192, 192, 1, 1),(192, 192, 1, 1),(192, 192, 3, 3),(192, 192, 1, 1),(10, 192, 1, 1)]\n",
    "b = np.zeros(shape[0])\n",
    "size0 = b.shape[0]\n",
    "size1 = b.shape[1]\n",
    "size2 = b.shape[2]\n",
    "size3 = b.shape[3]\n",
    "for t in range(len(a)):\n",
    "    i = a[t][0]\n",
    "    b[int(i/size1/size2/size3)][int(i/size2/size3%size1)][int(i/size3%size2)][int(i%size3)] = a[t][1]"
   ]
  },
  {
   "cell_type": "code",
   "execution_count": 7,
   "metadata": {},
   "outputs": [
    {
     "name": "stdout",
     "output_type": "stream",
     "text": [
      "[[355. 350. 354. 355. 351.]\n",
      " [366. 358. 375. 370. 382.]\n",
      " [369. 384. 378. 378. 387.]\n",
      " [374. 379. 378. 385. 373.]\n",
      " [369. 354. 376. 377. 363.]]\n"
     ]
    }
   ],
   "source": [
    "c = b.swapaxes(1,3)\n",
    "c = (c>0.1) * 1.0\n",
    "TheMap = np.zeros([size2,size3])\n",
    "for i in range(size0):\n",
    "    for j in range(size2):\n",
    "        for k in range(size3):\n",
    "            for l in range(size1):\n",
    "                TheMap[j][k] += c[i][j][k][l]\n",
    "print (TheMap)"
   ]
  },
  {
   "cell_type": "code",
   "execution_count": 4,
   "metadata": {},
   "outputs": [
    {
     "name": "stdout",
     "output_type": "stream",
     "text": [
      "0.4443749999999976 4.981182016782408\n",
      "(0.4443749999999976, 2.231856181921767)\n"
     ]
    },
    {
     "data": {
      "image/png": "[encoded data removed]",
      "text/plain": [
       "<Figure size 432x288 with 1 Axes>"
      ]
     },
     "metadata": {
      "needs_background": "light"
     },
     "output_type": "display_data"
    }
   ],
   "source": [
    "th = 0.5\n",
    "large = []\n",
    "for item in a[:,1]:\n",
    "    if item > th:\n",
    "        large += [item]\n",
    "plt.hist(large)\n",
    "#plt.hist(a[:,1], bins = 100)\n",
    "print (a[:,1].mean(),a[:,1].var())\n",
    "print (st.norm.fit(a[:,1]))"
   ]
  },
  {
   "cell_type": "code",
   "execution_count": 6,
   "metadata": {},
   "outputs": [
    {
     "data": {
      "image/png": "[encoded data removed]",
      "text/plain": [
       "<Figure size 432x288 with 1 Axes>"
      ]
     },
     "metadata": {},
     "output_type": "display_data"
    }
   ],
   "source": [
    "n, bins, patches = plt.hist(a[:,1],40,histtype='bar')\n",
    "#n, bins, patches = plt.hist(b.reshape(-1),int(len(b.reshape(-1))/300),histtype='bar')"
   ]
  },
  {
   "cell_type": "code",
   "execution_count": 13,
   "metadata": {},
   "outputs": [
    {
     "data": {
      "text/plain": [
       "[<matplotlib.lines.Line2D at 0x7f53c84f3a10>]"
      ]
     },
     "execution_count": 13,
     "metadata": {},
     "output_type": "execute_result"
    },
    {
     "data": {
      "image/png": "[encoded data removed]",
      "text/plain": [
       "<Figure size 432x288 with 1 Axes>"
      ]
     },
     "metadata": {},
     "output_type": "display_data"
    }
   ],
   "source": [
    "pos = []\n",
    "for item in a[:,1]:\n",
    "    if abs(item) > 0.0001:\n",
    "        pos += [item]\n",
    "        \n",
    "fig, ax = plt.subplots(1, 1)\n",
    "n, bins, patches = ax.hist(pos,50,histtype='bar',density=True)\n",
    "params = st.norm.fit(pos,bins = 50, density = True)\n",
    "\n",
    "# Separate parts of parameters\n",
    "arg = params[:-2]\n",
    "loc = params[-2]\n",
    "scale = params[-1]\n",
    "\n",
    "# Calculate fitted PDF and error with fit in distribution\n",
    "x = np.linspace(min(pos),max(pos), 1000)\n",
    "pdf = st.norm.pdf(x, loc=loc, scale=scale, *arg)\n",
    "\n",
    "ax.plot(x,pdf,\n",
    "        'r-', lw=3, alpha=0.6, label='norm pdf')"
   ]
  },
  {
   "cell_type": "code",
   "execution_count": 15,
   "metadata": {},
   "outputs": [
    {
     "data": {
      "text/plain": [
       "<Figure size 432x288 with 0 Axes>"
      ]
     },
     "metadata": {},
     "output_type": "display_data"
    }
   ],
   "source": [
    "fig = plt.gcf()\n",
    "fig.savefig('CIFAR_10')"
   ]
  },
  {
   "cell_type": "code",
   "execution_count": 11,
   "metadata": {},
   "outputs": [
    {
     "name": "stdout",
     "output_type": "stream",
     "text": [
      "<scipy.stats._continuous_distns.levy_stable_gen object at 0x7f8b7fb2bed0>\n",
      "0.0\n"
     ]
    },
    {
     "data": {
      "text/plain": [
       "('johnsonsu',\n",
       " (-0.785132020544973,\n",
       "  0.9569570574343824,\n",
       "  -0.009151427748098843,\n",
       "  0.029107453040637526))"
      ]
     },
     "execution_count": 11,
     "metadata": {},
     "output_type": "execute_result"
    }
   ],
   "source": [
    "import warnings\n",
    "import scipy.stats as st\n",
    "def best_fit_distribution(data, bins=200, ax=None):\n",
    "    \"\"\"Model data by finding best fit distribution to data\"\"\"\n",
    "    # Get histogram of original data\n",
    "    y, x = np.histogram(data, bins=bins, density=True)\n",
    "    x = (x + np.roll(x, -1))[:-1] / 2.0\n",
    "\n",
    "    # Distributions to check\n",
    "    DISTRIBUTIONS = [        \n",
    "        st.alpha,st.anglit,st.arcsine,st.beta,st.betaprime,st.bradford,st.burr,st.cauchy,st.chi,st.chi2,st.cosine,\n",
    "        st.dgamma,st.dweibull,st.erlang,st.expon,st.exponnorm,st.exponweib,st.exponpow,st.f,st.fatiguelife,st.fisk,\n",
    "        st.foldcauchy,st.foldnorm,st.frechet_r,st.frechet_l,st.genlogistic,st.genpareto,st.gennorm,st.genexpon,\n",
    "        st.genextreme,st.gausshyper,st.gamma,st.gengamma,st.genhalflogistic,st.gilbrat,st.gompertz,st.gumbel_r,\n",
    "        st.gumbel_l,st.halfcauchy,st.halflogistic,st.halfnorm,st.halfgennorm,st.hypsecant,st.invgamma,st.invgauss,\n",
    "        st.invweibull,st.johnsonsb,st.johnsonsu,st.ksone,st.kstwobign,st.laplace,st.levy,st.levy_l,st.levy_stable,\n",
    "        st.logistic,st.loggamma,st.loglaplace,st.lognorm,st.lomax,st.maxwell,st.mielke,st.nakagami,st.ncx2,st.ncf,\n",
    "        st.nct,st.norm,st.pareto,st.pearson3,st.powerlaw,st.powerlognorm,st.powernorm,st.rdist,st.reciprocal,\n",
    "        st.rayleigh,st.rice,st.recipinvgauss,st.semicircular,st.t,st.triang,st.truncexpon,st.truncnorm,st.tukeylambda,\n",
    "        st.uniform,st.vonmises,st.vonmises_line,st.wald,st.weibull_min,st.weibull_max,st.wrapcauchy\n",
    "    ]\n",
    "\n",
    "    # Best holders\n",
    "    best_distribution = st.norm\n",
    "    best_params = (0.0, 1.0)\n",
    "    best_sse = np.inf\n",
    "\n",
    "    # Estimate distribution parameters from data\n",
    "    bad = 0\n",
    "    for distribution in DISTRIBUTIONS:\n",
    "\n",
    "        # Try to fit the distribution\n",
    "        try:\n",
    "            # Ignore warnings from data that can't be fit\n",
    "            with warnings.catch_warnings():\n",
    "                warnings.filterwarnings('ignore')\n",
    "\n",
    "                # fit dist to data\n",
    "                params = distribution.fit(data)\n",
    "\n",
    "                # Separate parts of parameters\n",
    "                arg = params[:-2]\n",
    "                loc = params[-2]\n",
    "                scale = params[-1]\n",
    "\n",
    "                # Calculate fitted PDF and error with fit in distribution\n",
    "                pdf = distribution.pdf(x, loc=loc, scale=scale, *arg)\n",
    "                sse = np.sum(np.power(y - pdf, 2.0))\n",
    "\n",
    "                # if axis pass in add to plot\n",
    "                try:\n",
    "                    if ax:\n",
    "                        pd.Series(pdf, x).plot(ax=ax)\n",
    "                    end\n",
    "                except Exception:\n",
    "                    pass\n",
    "\n",
    "                # identify if this distribution is better\n",
    "                if best_sse > sse > 0:\n",
    "                    best_distribution = distribution\n",
    "                    best_params = params\n",
    "                    best_sse = sse\n",
    "\n",
    "        except Exception:\n",
    "            print distribution\n",
    "            pass\n",
    "\n",
    "            \n",
    "    print (float(bad)/float(len(DISTRIBUTIONS)))\n",
    "\n",
    "    return (best_distribution.name, best_params)\n",
    "\n",
    "#fig, ax = plt.subplots(1,1)\n",
    "non_zero = []\n",
    "for item in a[:,1:]:\n",
    "    if item > 0.0001:\n",
    "        non_zero +=[item]\n",
    "best_fit_distribution(a[:,1], bins=100, ax=None)"
   ]
  },
  {
   "cell_type": "code",
   "execution_count": 14,
   "metadata": {},
   "outputs": [
    {
     "data": {
      "text/plain": [
       "[<matplotlib.lines.Line2D at 0x7f8b7d2ce890>]"
      ]
     },
     "execution_count": 14,
     "metadata": {},
     "output_type": "execute_result"
    },
    {
     "data": {
      "image/png": "[encoded data removed]",
      "text/plain": [
       "<Figure size 432x288 with 1 Axes>"
      ]
     },
     "metadata": {},
     "output_type": "display_data"
    }
   ],
   "source": [
    "dis = st.norm\n",
    "params =  dis.fit(a[:,1])\n",
    "#print params\n",
    "arg = params[:-2]\n",
    "loc = params[-2]\n",
    "scale = params[-1]\n",
    "x = np.linspace(-0.5,0.5, 1000)\n",
    "n, bins, patches = plt.hist(a[:,1],bins=100, density = True)\n",
    "plt.plot(x, dis.pdf(x,loc = loc,scale = scale,*arg))"
   ]
  },
  {
   "cell_type": "code",
   "execution_count": null,
   "metadata": {},
   "outputs": [],
   "source": []
  }
 ],
 "metadata": {
  "kernelspec": {
   "display_name": "Python 2",
   "language": "python",
   "name": "python2"
  },
  "language_info": {
   "codemirror_mode": {
    "name": "ipython",
    "version": 3
   },
   "file_extension": ".py",
   "mimetype": "text/x-python",
   "name": "python",
   "nbconvert_exporter": "python",
   "pygments_lexer": "ipython3",
   "version": "3.5.2"
  }
 },
 "nbformat": 4,
 "nbformat_minor": 2
}
