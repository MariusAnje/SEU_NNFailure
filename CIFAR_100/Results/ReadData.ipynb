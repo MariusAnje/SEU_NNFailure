{
 "cells": [
  {
   "cell_type": "code",
   "execution_count": 1,
   "metadata": {},
   "outputs": [],
   "source": [
    "import numpy as np\n",
    "import os"
   ]
  },
  {
   "cell_type": "code",
   "execution_count": 2,
   "metadata": {},
   "outputs": [],
   "source": [
    "def readfile(filepath):\n",
    "    result = np.load(filepath)\n",
    "    return result[:,1].max(), result[:,1].mean()"
   ]
  },
  {
   "cell_type": "code",
   "execution_count": 3,
   "metadata": {},
   "outputs": [],
   "source": [
    "output = os.popen('cd Res56; ls |grep npy')\n",
    "files = output.read()\n",
    "filearray = files.split('\\n')[:-1]"
   ]
  },
  {
   "cell_type": "code",
   "execution_count": 5,
   "metadata": {},
   "outputs": [
    {
     "name": "stdout",
     "output_type": "stream",
     "text": [
      "('conv1.weight.56..neg.npy', '28.09, 0.44')\n",
      "('conv1.weight.res56.neg.npy', '28.09, 0.44')\n",
      "('fc.weight.56..neg.npy', '0.90, 0.04')\n",
      "('layer1.0.conv1.weight.56..neg.npy', '0.25, 0.00')\n",
      "('layer1.0.conv2.weight.56..neg.npy', '0.16, -0.00')\n",
      "('layer1.1.conv1.weight.56..neg.npy', '0.97, 0.01')\n",
      "('layer1.1.conv2.weight.56..neg.npy', '0.65, 0.00')\n",
      "('layer1.2.conv1.weight.56..neg.npy', '0.47, 0.00')\n",
      "('layer1.2.conv2.weight.56..neg.npy', '0.75, 0.00')\n",
      "('layer1.3.conv1.weight.56..neg.npy', '1.12, 0.01')\n",
      "('layer1.3.conv2.weight.56..neg.npy', '0.31, -0.00')\n",
      "('layer1.4.conv1.weight.56..neg.npy', '0.65, 0.01')\n",
      "('layer1.4.conv2.weight.56..neg.npy', '0.26, -0.00')\n",
      "('layer1.5.conv1.weight.56..neg.npy', '2.99, 0.01')\n",
      "('layer1.5.conv2.weight.56..neg.npy', '0.23, -0.00')\n",
      "('layer1.6.conv1.weight.56..neg.npy', '0.60, 0.01')\n",
      "('layer1.6.conv2.weight.56..neg.npy', '0.19, -0.00')\n",
      "('layer1.7.conv1.weight.56..neg.npy', '2.95, 0.02')\n",
      "('layer1.7.conv2.weight.56..neg.npy', '0.19, -0.00')\n",
      "('layer1.8.conv1.weight.56..neg.npy', '6.43, 0.04')\n",
      "('layer1.8.conv2.weight.56..neg.npy', '0.22, 0.00')\n",
      "('layer2.0.conv1.weight.56..neg.npy', '2.08, 0.02')\n",
      "('layer2.0.conv2.weight.56..neg.npy', '0.30, -0.00')\n",
      "('layer2.1.conv1.weight.56..neg.npy', '0.15, -0.00')\n",
      "('layer2.1.conv2.weight.56..neg.npy', '0.13, -0.01')\n",
      "('layer2.2.conv1.weight.56..neg.npy', '0.17, -0.00')\n",
      "('layer2.2.conv2.weight.56..neg.npy', '0.10, -0.01')\n",
      "('layer2.3.conv1.weight.56..neg.npy', '0.15, -0.01')\n",
      "('layer2.3.conv2.weight.56..neg.npy', '0.14, -0.01')\n",
      "('layer2.4.conv1.weight.56..neg.npy', '0.20, -0.01')\n",
      "('layer2.4.conv2.weight.56..neg.npy', '0.15, -0.01')\n",
      "('layer2.5.conv1.weight.56..neg.npy', '0.18, -0.01')\n",
      "('layer2.5.conv2.weight.56..neg.npy', '0.10, -0.01')\n",
      "('layer2.6.conv1.weight.56..neg.npy', '0.15, -0.00')\n",
      "('layer2.6.conv2.weight.56..neg.npy', '0.13, -0.01')\n",
      "('layer2.7.conv1.weight.56..neg.npy', '0.22, -0.00')\n",
      "('layer2.7.conv2.weight.56..neg.npy', '0.19, -0.01')\n",
      "('layer2.8.conv1.weight.56..neg.npy', '0.21, -0.00')\n",
      "('layer2.8.conv2.weight.56..neg.npy', '0.12, -0.01')\n",
      "('layer3.0.conv1.weight.56..neg.npy', '0.27, 0.00')\n",
      "('layer3.0.conv2.weight.56..neg.npy', '0.29, -0.01')\n",
      "('layer3.1.conv1.weight.56..neg.npy', '0.15, -0.00')\n",
      "('layer3.1.conv2.weight.56..neg.npy', '0.10, -0.01')\n",
      "('layer3.2.conv1.weight.56..neg.npy', '0.15, -0.01')\n",
      "('layer3.2.conv2.weight.56..neg.npy', '0.14, -0.01')\n",
      "('layer3.3.conv1.weight.56..neg.npy', '0.14, -0.01')\n",
      "('layer3.3.conv2.weight.56..neg.npy', '0.11, -0.01')\n",
      "('layer3.4.conv1.weight.56..neg.npy', '0.13, -0.01')\n",
      "('layer3.4.conv2.weight.56..neg.npy', '0.15, -0.01')\n",
      "('layer3.5.conv1.weight.56..neg.npy', '0.14, -0.01')\n",
      "('layer3.5.conv2.weight.56..neg.npy', '0.09, -0.01')\n",
      "('layer3.6.conv1.weight.56..neg.npy', '0.13, -0.01')\n",
      "('layer3.6.conv2.weight.56..neg.npy', '0.12, -0.01')\n",
      "('layer3.7.conv1.weight.56..neg.npy', '0.20, -0.01')\n",
      "('layer3.7.conv2.weight.56..neg.npy', '0.11, -0.01')\n",
      "('layer3.8.conv1.weight.56..neg.npy', '0.15, -0.01')\n",
      "('layer3.8.conv2.weight.56..neg.npy', '0.10, -0.01')\n"
     ]
    }
   ],
   "source": [
    "FT = 0\n",
    "TT = 0\n",
    "for key in filearray:\n",
    "    print(key, '%.2f, %.2f'%readfile('Res56/'+key))"
   ]
  },
  {
   "cell_type": "code",
   "execution_count": null,
   "metadata": {},
   "outputs": [],
   "source": []
  }
 ],
 "metadata": {
  "kernelspec": {
   "display_name": "Python2 (py2env)",
   "language": "python",
   "name": "testenv"
  },
  "language_info": {
   "codemirror_mode": {
    "name": "ipython",
    "version": 2
   },
   "file_extension": ".py",
   "mimetype": "text/x-python",
   "name": "python",
   "nbconvert_exporter": "python",
   "pygments_lexer": "ipython2",
   "version": "2.7.12"
  }
 },
 "nbformat": 4,
 "nbformat_minor": 2
}
