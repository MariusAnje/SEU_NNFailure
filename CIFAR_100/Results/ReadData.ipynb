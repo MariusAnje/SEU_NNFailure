{
 "cells": [
  {
   "cell_type": "code",
   "execution_count": 8,
   "metadata": {},
   "outputs": [],
   "source": [
    "import numpy as np\n",
    "import os"
   ]
  },
  {
   "cell_type": "code",
   "execution_count": 9,
   "metadata": {},
   "outputs": [],
   "source": [
    "def readfile(filepath):\n",
    "    result = np.load(filepath)\n",
    "    return result[:,1].max(), result[:,1].mean()"
   ]
  },
  {
   "cell_type": "code",
   "execution_count": 11,
   "metadata": {},
   "outputs": [],
   "source": [
    "output = os.popen('ls |grep npy')\n",
    "files = output.read()\n",
    "filearray = files.split('\\n')[:-1]"
   ]
  },
  {
   "cell_type": "code",
   "execution_count": 12,
   "metadata": {},
   "outputs": [
    {
     "name": "stdout",
     "output_type": "stream",
     "text": [
      "('conv1.weight.56.7.neg.npy', (23.72, 1.0635365853658563))\n",
      "('conv1.weight.56.all2.halfRand.npy', (5.920000000000002, 0.16613425925926173))\n",
      "('conv1.weight.56.firstonly2.halfRand.npy', (4.730000000000004, 0.18995370370371023))\n",
      "('conv1.weight.56.firstonly3.halfRand.npy', (4.739999999999995, 0.2052314814814763))\n",
      "('conv1.weight.56.firstonlyagain.half.npy', (4.519999999999996, 0.20976851851851736))\n",
      "('conv1.weight.56.firstonly.half.npy', (24.059999999999995, 20.23719907407407))\n",
      "('conv1.weight.56.firstonly.halfRand.npy', (4.560000000000002, 0.2076157407407423))\n",
      "('conv1.weight.56.Half.firstpretrained.neg.npy', (7.780000000000001, 0.12215277777777521))\n",
      "('conv1.weight.56.Half.half.npy', (4.579999999999998, 0.20949074074073679))\n",
      "('conv1.weight.56.Half.neg.npy', (7.780000000000001, 0.12215277777777521))\n",
      "('conv1.weight.56.plus2.neg.npy', (28.03, 0.5256018518518553))\n",
      "('conv1.weight.56.plus3.neg.npy', (27.6, 0.47988425925926254))\n",
      "('conv1.weight.56.rand1.neg.npy', (27.820000000000007, 0.45854166666667273))\n",
      "('conv1.weight.56.rand2.neg.npy', (27.639999999999993, 0.5001157407407342))\n",
      "('conv1.weight.56..zero.npy', (7.780000000000001, 0.12215277777777521))\n",
      "('conv1.weight.res110.neg.npy', (0.21999999999999886, 0.00907389322916904))\n"
     ]
    }
   ],
   "source": [
    "for key in filearray:\n",
    "    print(key, readfile(key))"
   ]
  },
  {
   "cell_type": "code",
   "execution_count": null,
   "metadata": {},
   "outputs": [],
   "source": []
  }
 ],
 "metadata": {
  "kernelspec": {
   "display_name": "Python2 (py2env)",
   "language": "python",
   "name": "testenv"
  },
  "language_info": {
   "codemirror_mode": {
    "name": "ipython",
    "version": 2
   },
   "file_extension": ".py",
   "mimetype": "text/x-python",
   "name": "python",
   "nbconvert_exporter": "python",
   "pygments_lexer": "ipython2",
   "version": "2.7.12"
  }
 },
 "nbformat": 4,
 "nbformat_minor": 2
}
