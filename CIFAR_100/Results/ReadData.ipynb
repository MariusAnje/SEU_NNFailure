{
 "cells": [
  {
   "cell_type": "code",
   "execution_count": 36,
   "metadata": {},
   "outputs": [],
   "source": [
    "import numpy as np\n",
    "import os"
   ]
  },
  {
   "cell_type": "code",
   "execution_count": 37,
   "metadata": {},
   "outputs": [],
   "source": [
    "def readfile(filepath):\n",
    "    result = np.load(filepath)\n",
    "    return result[:,1].max(), result[:,1].mean()"
   ]
  },
  {
   "cell_type": "code",
   "execution_count": 38,
   "metadata": {},
   "outputs": [],
   "source": [
    "output = os.popen('cd Res56; ls |grep npy')\n",
    "files = output.read()\n",
    "filearray = files.split('\\n')[:-1]"
   ]
  },
  {
   "cell_type": "code",
   "execution_count": 39,
   "metadata": {},
   "outputs": [
    {
     "name": "stdout",
     "output_type": "stream",
     "text": [
      "('conv1.weight.56..neg.npy', (28.089999999999996, 0.4443749999999976))\n",
      "('conv1.weight.res56.neg.npy', (28.089999999999996, 0.4443749999999976))\n",
      "('layer1.0.conv1.weight.56..neg.npy', (0.25, 0.00026041666666446226))\n",
      "('layer1.0.conv2.weight.56..neg.npy', (0.1599999999999966, -0.003289930555557985))\n",
      "('layer1.1.conv1.weight.56..neg.npy', (0.9699999999999989, 0.008506944444442284))\n",
      "('layer1.1.conv2.weight.56..neg.npy', (0.6499999999999915, 0.0007552083333310736))\n",
      "('layer1.2.conv1.weight.56..neg.npy', (0.46999999999999886, 0.0047395833333309595))\n",
      "('layer1.2.conv2.weight.56..neg.npy', (0.75, 0.0012022569444421606))\n",
      "('layer1.3.conv1.weight.56..neg.npy', (1.1200000000000045, 0.008836805555553044))\n",
      "('layer1.3.conv2.weight.56..neg.npy', (0.3100000000000023, -0.0004947916666689182))\n",
      "('layer1.4.conv1.weight.56..neg.npy', (0.6499999999999915, 0.007912326388886226))\n",
      "('layer1.4.conv2.weight.56..neg.npy', (0.2599999999999909, -0.0004991319444469634))\n",
      "('layer1.5.conv1.weight.56..neg.npy', (2.989999999999995, 0.0070876736111088285))\n",
      "('layer1.5.conv2.weight.56..neg.npy', (0.23000000000000398, -0.001310763888891447))\n",
      "('layer1.6.conv1.weight.56..neg.npy', (0.5999999999999943, 0.007699652777775321))\n",
      "('layer1.6.conv2.weight.56..neg.npy', (0.18999999999999773, -0.001861979166668933))\n",
      "('layer1.7.conv1.weight.56..neg.npy', (2.950000000000003, 0.024513888888886417))\n",
      "('layer1.7.conv2.weight.56..neg.npy', (0.18999999999999773, -0.00010850694444684376))\n",
      "('layer1.8.conv1.weight.56..neg.npy', (6.429999999999993, 0.03801649305555303))\n",
      "('layer1.8.conv2.weight.56..neg.npy', (0.21999999999999886, 0.0006380208333309459))\n",
      "('layer2.0.conv1.weight.56..neg.npy', (2.0799999999999983, 0.024014756944441936))\n",
      "('layer2.0.conv2.weight.56..neg.npy', (0.29999999999999716, -0.002625868055557932))\n",
      "('layer2.1.conv1.weight.56..neg.npy', (0.14999999999999147, -0.004778645833335631))\n",
      "('layer2.1.conv2.weight.56..neg.npy', (0.12999999999999545, -0.007082248263891059))\n",
      "('layer2.2.conv1.weight.56..neg.npy', (0.1700000000000017, -0.004364149305557914))\n",
      "('layer2.2.conv2.weight.56..neg.npy', (0.09999999999999432, -0.008158637152779806))\n",
      "('layer2.3.conv1.weight.56..neg.npy', (0.14999999999999147, -0.0055859375000023165))\n",
      "('layer2.3.conv2.weight.56..neg.npy', (0.14000000000000057, -0.008422309027779787))\n",
      "('layer2.4.conv1.weight.56..neg.npy', (0.20000000000000284, -0.005045572916669054))\n",
      "('layer2.4.conv2.weight.56..neg.npy', (0.14999999999999147, -0.007810329861113068))\n",
      "('layer2.5.conv1.weight.56..neg.npy', (0.1799999999999926, -0.005379774305557861))\n",
      "('layer2.5.conv2.weight.56..neg.npy', (0.09999999999999432, -0.009244791666668696))\n",
      "('layer2.6.conv1.weight.56..neg.npy', (0.14999999999999147, -0.004703776041668893))\n",
      "('layer2.6.conv2.weight.56..neg.npy', (0.12999999999999545, -0.009207899305557448))\n",
      "('layer2.7.conv1.weight.56..neg.npy', (0.21999999999999886, -0.0043880208333355215))\n",
      "('layer2.7.conv2.weight.56..neg.npy', (0.18999999999999773, -0.008929036458335324))\n",
      "('layer2.8.conv1.weight.56..neg.npy', (0.20999999999999375, -0.004390190972224488))\n",
      "('layer2.8.conv2.weight.56..neg.npy', (0.12000000000000455, -0.00912434895833527))\n",
      "('layer3.0.conv1.weight.56..neg.npy', (0.269999999999996, 0.003841145833330841))\n",
      "('layer3.0.conv2.weight.56..neg.npy', (0.28999999999999204, -0.005126681857641202))\n",
      "('layer3.1.conv1.weight.56..neg.npy', (0.14999999999999147, -0.004898003472224566))\n",
      "('layer3.1.conv2.weight.56..neg.npy', (0.09999999999999432, -0.0062122938368077835))\n",
      "('layer3.2.conv1.weight.56..neg.npy', (0.14999999999999147, -0.0058241102430578616))\n",
      "('layer3.2.conv2.weight.56..neg.npy', (0.14000000000000057, -0.006407606336807748))\n",
      "('layer3.3.conv1.weight.56..neg.npy', (0.14000000000000057, -0.0053643120659745405))\n",
      "('layer3.3.conv2.weight.56..neg.npy', (0.10999999999999943, -0.005718587239585563))\n",
      "('layer3.4.conv1.weight.56..neg.npy', (0.12999999999999545, -0.005262315538196818))\n",
      "('layer3.4.conv2.weight.56..neg.npy', (0.14999999999999147, -0.005796169704863326))\n",
      "('layer3.5.conv1.weight.56..neg.npy', (0.14000000000000057, -0.006165907118057863))\n"
     ]
    }
   ],
   "source": [
    "FT = 0\n",
    "TT = 0\n",
    "for key in filearray:\n",
    "    print(key, readfile('Res56/'+key))"
   ]
  },
  {
   "cell_type": "code",
   "execution_count": null,
   "metadata": {},
   "outputs": [],
   "source": []
  }
 ],
 "metadata": {
  "kernelspec": {
   "display_name": "Python2 (py2env)",
   "language": "python",
   "name": "testenv"
  },
  "language_info": {
   "codemirror_mode": {
    "name": "ipython",
    "version": 2
   },
   "file_extension": ".py",
   "mimetype": "text/x-python",
   "name": "python",
   "nbconvert_exporter": "python",
   "pygments_lexer": "ipython2",
   "version": "2.7.12"
  }
 },
 "nbformat": 4,
 "nbformat_minor": 2
}
