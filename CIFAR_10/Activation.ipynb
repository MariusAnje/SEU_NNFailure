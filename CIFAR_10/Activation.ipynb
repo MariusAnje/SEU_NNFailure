{
 "cells": [
  {
   "cell_type": "code",
   "execution_count": 1,
   "metadata": {},
   "outputs": [],
   "source": [
    "from __future__ import absolute_import\n",
    "from __future__ import division\n",
    "from __future__ import print_function\n",
    "\n",
    "import sys\n",
    "import os\n",
    "import torch\n",
    "import argparse\n",
    "import data\n",
    "import util\n",
    "import torch.nn as nn\n",
    "import torch.optim as optim\n",
    "\n",
    "from models import nin_store as nin\n",
    "from torch.autograd import Variable\n",
    "import tqdm\n",
    "import time\n",
    "import numpy as np\n",
    "\n",
    "def load_pretrained(filePath):\n",
    "    model = nin.Net()\n",
    "    pretrained_model = torch.load(filePath)\n",
    "    useState_dict = model.state_dict()\n",
    "    preState_dict = pretrained_model['state_dict']\n",
    "    useKeys = useState_dict.keys()\n",
    "    preKeys = preState_dict.keys()\n",
    "    j = 0\n",
    "    for key in useKeys:\n",
    "        if key.find('num_batches_tracked') == -1:\n",
    "            useState_dict[key].data = preState_dict[preKeys[j]].data\n",
    "            j +=1\n",
    "    model.load_state_dict(useState_dict)\n",
    "    model.to(device)\n",
    "    return model\n",
    "\n",
    "def BitInverse(i, key, shape):\n",
    "    \n",
    "    model = load_pretrained('nin.best.pth.tar')\n",
    "    bin_op = util.BinOp(model)\n",
    "    model.eval()\n",
    "    bin_op.binarization()\n",
    "    state_dict = model.state_dict()\n",
    "    \n",
    "\n",
    "    if len(shape) == 4:\n",
    "        size1 = shape[1]\n",
    "        size2 = shape[2]\n",
    "        size3 = shape[3]\n",
    "        #(state_dict[key][int(i/size1/size2/size3)][int(i/size2/size3%size1)][int(i/size3%size2)][int(i%size3)]).mul_(-1)\n",
    "\n",
    "    if len(shape) == 1:\n",
    "        state_dict[key][i].mul_(-1)\n",
    "\n",
    "    if len(shape) == 2:\n",
    "        size = state_dict[key].shape[1]\n",
    "        (state_dict[key][int(i/size)][i%size]).mul_(-1)\n",
    "    \n",
    "    model.load_state_dict(state_dict)\n",
    "    return model"
   ]
  },
  {
   "cell_type": "code",
   "execution_count": 2,
   "metadata": {},
   "outputs": [],
   "source": [
    "def test(i, key, shape, memoryData = None):\n",
    "    activations = []\n",
    "    test_loss = 0\n",
    "    correct = 0\n",
    "    \n",
    "    model = BitInverse(i, key, shape)\n",
    "    model.eval()\n",
    "    with torch.no_grad():\n",
    "        for data, target in tqdm.tqdm_notebook(memoryData, leave = False):\n",
    "            data, target = data.to(device), target.to(device)\n",
    "\n",
    "            output, activation = model(data)\n",
    "            #test_loss += criterion(output, target).data.item()\n",
    "            pred = output.data.max(1, keepdim=True)[1]\n",
    "            correct += pred.eq(target.data.view_as(pred)).cpu().sum()\n",
    "            activations += [activation]\n",
    "            \n",
    "    bin_op.restore()\n",
    "    acc = 100. * float(correct) / float(len(testloader.dataset))\n",
    "    #print (acc,correct,len(testloader.dataset))\n",
    "    return acc, activations"
   ]
  },
  {
   "cell_type": "code",
   "execution_count": 3,
   "metadata": {},
   "outputs": [
    {
     "name": "stdout",
     "output_type": "stream",
     "text": [
      "conv1.weight\n"
     ]
    },
    {
     "data": {
      "application/vnd.jupyter.widget-view+json": {
       "model_id": "",
       "version_major": 2,
       "version_minor": 0
      },
      "text/plain": [
       "HBox(children=(IntProgress(value=0, max=20), HTML(value=u'')))"
      ]
     },
     "metadata": {},
     "output_type": "display_data"
    },
    {
     "name": "stdout",
     "output_type": "stream",
     "text": [
      "\r"
     ]
    }
   ],
   "source": [
    "device = torch.device('cuda:1' if torch.cuda.is_available() else \"cpu\")\n",
    "\n",
    "# set the seed\n",
    "torch.manual_seed(1)\n",
    "torch.cuda.manual_seed(1)\n",
    "\n",
    "# prepare the data\n",
    "if not os.path.isfile('./data/'+'/train_data'):\n",
    "    # check the data path\n",
    "    raise Exception\\\n",
    "            ('Please assign the correct data path with --data <DATA_PATH>')\n",
    "\n",
    "testset = data.dataset(root='./data/', train=False)\n",
    "indices = np.load(\"subset_CIFAR10.npy\")\n",
    "testloader = torch.utils.data.DataLoader(testset,\n",
    "                             batch_size=512, shuffle=False, num_workers=4)\n",
    "\n",
    "# define classes\n",
    "classes = ('plane', 'car', 'bird', 'cat',\n",
    "        'deer', 'dog', 'frog', 'horse', 'ship', 'truck')\n",
    "\n",
    "# define the model\n",
    "model = load_pretrained('nin.best.pth.tar')\n",
    "\n",
    "# define the binarization operator\n",
    "bin_op = util.BinOp(model)\n",
    "\n",
    "# do the evaluation if specified\n",
    "bestAcc = 86.28\n",
    "memoryData = []\n",
    "\n",
    "find_key = \"conv1.weight\"\n",
    "print(find_key)\n",
    "state_dict = model.state_dict()\n",
    "\n",
    "for key in state_dict.keys():\n",
    "    if key.find(find_key) != -1:\n",
    "        total = 1\n",
    "        shape = state_dict[key].shape\n",
    "        use_key = key\n",
    "        for t in range(len(state_dict[key].shape)):\n",
    "            total *= state_dict[key].shape[t]       \n",
    "\n",
    "for data_batches in tqdm.tqdm_notebook(testloader, leave = False):\n",
    "    memoryData += [data_batches]"
   ]
  },
  {
   "cell_type": "code",
   "execution_count": 5,
   "metadata": {},
   "outputs": [
    {
     "data": {
      "application/vnd.jupyter.widget-view+json": {
       "model_id": "5b787c9ddaad45199da789f65c53325e",
       "version_major": 2,
       "version_minor": 0
      },
      "text/plain": [
       "HBox(children=(IntProgress(value=0, max=1), HTML(value=u'')))"
      ]
     },
     "metadata": {},
     "output_type": "display_data"
    },
    {
     "data": {
      "application/vnd.jupyter.widget-view+json": {
       "model_id": "",
       "version_major": 2,
       "version_minor": 0
      },
      "text/plain": [
       "HBox(children=(IntProgress(value=0, max=20), HTML(value=u'')))"
      ]
     },
     "metadata": {},
     "output_type": "display_data"
    },
    {
     "name": "stdout",
     "output_type": "stream",
     "text": [
      "\n"
     ]
    }
   ],
   "source": [
    "indices = [0]\n",
    "with tqdm.tqdm_notebook(indices) as Loader:\n",
    "    for i in Loader:\n",
    "        acc, activation = test(i, use_key, shape = shape, memoryData = memoryData)\n",
    "        loss = bestAcc - acc\n",
    "        Loader.set_description(\"L: %.2f\"%(loss))\n",
    "\n",
    "        torch.save(activation, find_key+str(i)+'.unhappy.pt')"
   ]
  },
  {
   "cell_type": "code",
   "execution_count": null,
   "metadata": {},
   "outputs": [],
   "source": []
  }
 ],
 "metadata": {
  "kernelspec": {
   "display_name": "Python 2",
   "language": "python",
   "name": "python2"
  },
  "language_info": {
   "codemirror_mode": {
    "name": "ipython",
    "version": 2
   },
   "file_extension": ".py",
   "mimetype": "text/x-python",
   "name": "python",
   "nbconvert_exporter": "python",
   "pygments_lexer": "ipython2",
   "version": "2.7.12"
  }
 },
 "nbformat": 4,
 "nbformat_minor": 2
}
