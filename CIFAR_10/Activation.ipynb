{
 "cells": [
  {
   "cell_type": "code",
   "execution_count": 1,
   "metadata": {},
   "outputs": [],
   "source": [
    "from __future__ import absolute_import\n",
    "from __future__ import division\n",
    "from __future__ import print_function\n",
    "\n",
    "import sys\n",
    "import os\n",
    "import torch\n",
    "import argparse\n",
    "import data\n",
    "import util\n",
    "import torch.nn as nn\n",
    "import torch.optim as optim\n",
    "\n",
    "from models import nin_store as nin\n",
    "from torch.autograd import Variable\n",
    "import tqdm\n",
    "import time\n",
    "import numpy as np\n",
    "\n",
    "def vectorRelative(origin, failure):\n",
    "    return ((origin - failure).pow(2).sum())/(origin.pow(2).sum())\n",
    "\n",
    "def totalRelative(origin, failure):\n",
    "    return ((origin - failure)/origin).pow(2).sum()/(len(origin.view(-1)))\n",
    "\n",
    "def compare_activations(origin, failure):\n",
    "    batches = len(origin)\n",
    "    layers = len(origin[0])\n",
    "    difference = torch.zeros(9)\n",
    "    for i in range(batches):\n",
    "        for j in range(layers): \n",
    "            ori = origin[i][j].to(device)\n",
    "            fal = failure[i][j].to(device)\n",
    "            difference[j] += totalRelative(ori,fal)\n",
    "            del(ori)\n",
    "            del(fal)\n",
    "    \n",
    "    return difference\n",
    "\n",
    "def load_pretrained(filePath):\n",
    "    model = nin.Net()\n",
    "    pretrained_model = torch.load(filePath)\n",
    "    useState_dict = model.state_dict()\n",
    "    preState_dict = pretrained_model['state_dict']\n",
    "    useKeys = useState_dict.keys()\n",
    "    preKeys = preState_dict.keys()\n",
    "    j = 0\n",
    "    for key in useKeys:\n",
    "        if key.find('num_batches_tracked') == -1:\n",
    "            useState_dict[key].data = preState_dict[preKeys[j]].data\n",
    "            j +=1\n",
    "    model.load_state_dict(useState_dict)\n",
    "    model.to(device)\n",
    "    return model\n",
    "\n",
    "def BitInverse(i, key, shape):\n",
    "    \n",
    "    model = load_pretrained('nin.best.pth.tar')\n",
    "    bin_op = util.BinOp(model)\n",
    "    model.eval()\n",
    "    bin_op.binarization()\n",
    "    state_dict = model.state_dict()\n",
    "    \n",
    "\n",
    "    if len(shape) == 4:\n",
    "        size1 = shape[1]\n",
    "        size2 = shape[2]\n",
    "        size3 = shape[3]\n",
    "        (state_dict[key][int(i/size1/size2/size3)][int(i/size2/size3%size1)][int(i/size3%size2)][int(i%size3)]).mul_(-1)\n",
    "\n",
    "    if len(shape) == 1:\n",
    "        state_dict[key][i].mul_(-1)\n",
    "\n",
    "    if len(shape) == 2:\n",
    "        size = state_dict[key].shape[1]\n",
    "        (state_dict[key][int(i/size)][i%size]).mul_(-1)\n",
    "    \n",
    "    model.load_state_dict(state_dict)\n",
    "    return model"
   ]
  },
  {
   "cell_type": "code",
   "execution_count": 2,
   "metadata": {},
   "outputs": [],
   "source": [
    "def test(i, key, shape, memoryData = None):\n",
    "    activations = []\n",
    "    test_loss = 0\n",
    "    correct = 0\n",
    "    \n",
    "    model = BitInverse(i, key, shape)\n",
    "    model.eval()\n",
    "    with torch.no_grad():\n",
    "        for data, target in memoryData:\n",
    "            data, target = data.to(device), target.to(device)\n",
    "\n",
    "            output, activation = model(data)\n",
    "            #test_loss += criterion(output, target).data.item()\n",
    "            pred = output.data.max(1, keepdim=True)[1]\n",
    "            correct += pred.eq(target.data.view_as(pred)).cpu().sum()\n",
    "            activations += [activation]\n",
    "            \n",
    "    bin_op.restore()\n",
    "    acc = 100. * float(correct) / float(len(testloader.dataset))\n",
    "\n",
    "    return acc, activations"
   ]
  },
  {
   "cell_type": "code",
   "execution_count": 3,
   "metadata": {},
   "outputs": [
    {
     "name": "stdout",
     "output_type": "stream",
     "text": [
      "conv1.weight\n"
     ]
    },
    {
     "data": {
      "application/vnd.jupyter.widget-view+json": {
       "model_id": "",
       "version_major": 2,
       "version_minor": 0
      },
      "text/plain": [
       "HBox(children=(IntProgress(value=0, max=20), HTML(value=u'')))"
      ]
     },
     "metadata": {},
     "output_type": "display_data"
    },
    {
     "name": "stdout",
     "output_type": "stream",
     "text": [
      "\r"
     ]
    }
   ],
   "source": [
    "# test environment\n",
    "\n",
    "device = torch.device('cuda:1' if torch.cuda.is_available() else \"cpu\")\n",
    "\n",
    "# set the seed\n",
    "torch.manual_seed(1)\n",
    "torch.cuda.manual_seed(1)\n",
    "\n",
    "# prepare the data\n",
    "if not os.path.isfile('./data/'+'/train_data'):\n",
    "    # check the data path\n",
    "    raise Exception\\\n",
    "            ('Please assign the correct data path with --data <DATA_PATH>')\n",
    "\n",
    "testset = data.dataset(root='./data/', train=False)\n",
    "indices = np.load(\"subset_CIFAR10.npy\")\n",
    "testloader = torch.utils.data.DataLoader(testset,\n",
    "                             batch_size=512, shuffle=False, num_workers=4)\n",
    "\n",
    "# define classes\n",
    "classes = ('plane', 'car', 'bird', 'cat',\n",
    "        'deer', 'dog', 'frog', 'horse', 'ship', 'truck')\n",
    "\n",
    "# define the model\n",
    "model = load_pretrained('nin.best.pth.tar')\n",
    "\n",
    "# define the binarization operator\n",
    "bin_op = util.BinOp(model)\n",
    "\n",
    "# do the evaluation if specified\n",
    "bestAcc = 86.28\n",
    "memoryData = []\n",
    "\n",
    "find_key = \"conv1.weight\"\n",
    "print(find_key)\n",
    "state_dict = model.state_dict()\n",
    "\n",
    "for key in state_dict.keys():\n",
    "    if key.find(find_key) != -1:\n",
    "        total = 1\n",
    "        shape = state_dict[key].shape\n",
    "        use_key = key\n",
    "        for t in range(len(state_dict[key].shape)):\n",
    "            total *= state_dict[key].shape[t]     \n",
    "\n",
    "for data_batches in tqdm.tqdm_notebook(testloader, leave = False):\n",
    "    memoryData += [data_batches]"
   ]
  },
  {
   "cell_type": "code",
   "execution_count": 4,
   "metadata": {},
   "outputs": [],
   "source": [
    "# tests\n",
    "#indices = [13668, 12162, 7373, 5867, 8631, 12611, 6580, 1312, 12933, 1287]\n",
    "activationFolder = './Activations/'\n",
    "resultFolder = './Results/neg_div_4/'\n",
    "upperBound = 0.7\n",
    "lowerBound = 0.2\n",
    "lowerCut = 0.1\n",
    "origin = torch.load(activationFolder + 'Correct_Activations.pt')\n",
    "losses = np.load(resultFolder + '0.weight.neg.npy')"
   ]
  },
  {
   "cell_type": "code",
   "execution_count": 13,
   "metadata": {},
   "outputs": [],
   "source": [
    "lowerBound = 0.15\n",
    "lowerCut = 0.1\n",
    "upperIndices = []\n",
    "lowerIndices = []\n",
    "j = 0\n",
    "for i in range(len(losses[:,1])):\n",
    "    if losses[i,1] > upperBound:\n",
    "        upperIndices += [losses[i,0]]\n",
    "    elif losses[i,1] < lowerBound and losses[i,1] > lowerCut:\n",
    "        lowerIndices += [losses[i,0]]\n",
    "    elif losses[i,1] <= lowerCut:\n",
    "        if j > 100:\n",
    "            j += 1\n",
    "            lowerIndices += [losses[i,0]]\n",
    "            "
   ]
  },
  {
   "cell_type": "code",
   "execution_count": 15,
   "metadata": {},
   "outputs": [
    {
     "data": {
      "application/vnd.jupyter.widget-view+json": {
       "model_id": "0fd12a5675044d5984f77c4e0ea3b27c",
       "version_major": 2,
       "version_minor": 0
      },
      "text/plain": [
       "HBox(children=(IntProgress(value=0, max=55), HTML(value=u'')))"
      ]
     },
     "metadata": {},
     "output_type": "display_data"
    },
    {
     "name": "stdout",
     "output_type": "stream",
     "text": [
      "\n"
     ]
    }
   ],
   "source": [
    "with tqdm.tqdm_notebook(upperIndices) as Loader:\n",
    "    differences = []\n",
    "    for i in Loader:\n",
    "        acc, activation = test(i, use_key, shape = shape, memoryData = memoryData)\n",
    "        loss = bestAcc - acc\n",
    "        Loader.set_description(\"L: %.2f\"%(loss))\n",
    "        differences += [[compare_activations(origin, activation), loss, i]]\n",
    "        torch.save(differences, 'upperDifferencestotalRelative.pt')"
   ]
  },
  {
   "cell_type": "code",
   "execution_count": 17,
   "metadata": {},
   "outputs": [
    {
     "data": {
      "application/vnd.jupyter.widget-view+json": {
       "model_id": "e2b914b13a0d42d2ac5d9f6aefbeb5e9",
       "version_major": 2,
       "version_minor": 0
      },
      "text/plain": [
       "HBox(children=(IntProgress(value=0, max=753), HTML(value=u'')))"
      ]
     },
     "metadata": {},
     "output_type": "display_data"
    },
    {
     "name": "stdout",
     "output_type": "stream",
     "text": [
      "\n"
     ]
    }
   ],
   "source": [
    "with tqdm.tqdm_notebook(lowerIndices) as Loader:\n",
    "    differences = []\n",
    "    j = 0\n",
    "    for i in Loader:\n",
    "        acc, activation = test(i, use_key, shape = shape, memoryData = memoryData)\n",
    "        loss = bestAcc - acc\n",
    "        Loader.set_description(\"L: %.2f\"%(loss))\n",
    "        differences += [[compare_activations(origin, activation), loss, i]]\n",
    "        torch.save(differences, 'lowerDifferencestotalRelative.pt')"
   ]
  },
  {
   "cell_type": "code",
   "execution_count": 8,
   "metadata": {},
   "outputs": [],
   "source": [
    "fuccc = torch.zeros([1,2,3])"
   ]
  },
  {
   "cell_type": "code",
   "execution_count": 10,
   "metadata": {},
   "outputs": [
    {
     "name": "stdout",
     "output_type": "stream",
     "text": [
      "6\n"
     ]
    }
   ],
   "source": [
    "print(len(fuccc.view(-1)))"
   ]
  },
  {
   "cell_type": "code",
   "execution_count": 67,
   "metadata": {},
   "outputs": [],
   "source": [
    "def getDiff(diff):\n",
    "    output = []\n",
    "    if len(diff) == 165 or len(diff) == 2259:\n",
    "        for i in range(0,len(diff),3):\n",
    "            output += [diff[i]]\n",
    "    else:\n",
    "        for i in range(0,len(diff)):\n",
    "            output += [diff[i][0]]\n",
    "    return output\n",
    "\n",
    "def calcAvg(Diff):\n",
    "    Total = torch.zeros(len(Diff[0]))\n",
    "    for item in Diff:\n",
    "        Total += item\n",
    "    avg = Total/len(Diff)\n",
    "    print (avg)\n",
    "\n",
    "def fileAvg(filename):\n",
    "    Data = torch.load(filename)\n",
    "    Differences = getDiff(Data)\n",
    "    calcAvg(Differences)"
   ]
  },
  {
   "cell_type": "code",
   "execution_count": 68,
   "metadata": {},
   "outputs": [
    {
     "name": "stdout",
     "output_type": "stream",
     "text": [
      "tensor([4.8501e-03, 9.0787e-01, 7.8004e+00, 1.2709e+02, 2.9573e+01, 1.6705e+02,\n",
      "        1.0421e+03, 4.2285e+01, 8.7858e+02])\n",
      "tensor([0.0091, 0.0059, 0.0760, 0.0888, 0.2937, 1.2942, 0.6536, 1.7197, 1.6381])\n",
      "tensor([1.1118e-03, 3.5555e-01, 2.9627e+00, 4.7913e+01, 1.4386e+01, 8.7962e+01,\n",
      "        5.9837e+02, 2.7590e+01, 5.6897e+02])\n",
      "tensor([0.0021, 0.0023, 0.0289, 0.0335, 0.1429, 0.6815, 0.3753, 1.1221, 1.0608])\n"
     ]
    }
   ],
   "source": [
    "fileAvg('Activations/upperDifferences.pt')\n",
    "fileAvg('Activations/upperDifferencesVectorRelative.pt')\n",
    "fileAvg('Activations/lowerDifferences.pt')\n",
    "fileAvg('Activations/lowerDifferencesVectorRelative.pt')"
   ]
  },
  {
   "cell_type": "code",
   "execution_count": 66,
   "metadata": {},
   "outputs": [
    {
     "name": "stdout",
     "output_type": "stream",
     "text": [
      "2259\n"
     ]
    }
   ],
   "source": [
    "Data = torch.load('Activations/lowerDifferences.pt')\n",
    "print (len(Data))"
   ]
  },
  {
   "cell_type": "code",
   "execution_count": 6,
   "metadata": {},
   "outputs": [
    {
     "name": "stdout",
     "output_type": "stream",
     "text": [
      "0\n"
     ]
    }
   ],
   "source": [
    "for i in range(0,2,4):\n",
    "    print (i)"
   ]
  },
  {
   "cell_type": "code",
   "execution_count": null,
   "metadata": {},
   "outputs": [],
   "source": []
  }
 ],
 "metadata": {
  "kernelspec": {
   "display_name": "Python 2",
   "language": "python",
   "name": "python2"
  },
  "language_info": {
   "codemirror_mode": {
    "name": "ipython",
    "version": 2
   },
   "file_extension": ".py",
   "mimetype": "text/x-python",
   "name": "python",
   "nbconvert_exporter": "python",
   "pygments_lexer": "ipython2",
   "version": "2.7.12"
  }
 },
 "nbformat": 4,
 "nbformat_minor": 2
}
