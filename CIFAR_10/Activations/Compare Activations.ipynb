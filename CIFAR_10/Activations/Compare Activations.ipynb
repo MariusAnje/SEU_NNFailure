{
 "cells": [
  {
   "cell_type": "code",
   "execution_count": 2,
   "metadata": {},
   "outputs": [],
   "source": [
    "import numpy as np\n",
    "import torch"
   ]
  },
  {
   "cell_type": "code",
   "execution_count": 3,
   "metadata": {},
   "outputs": [],
   "source": [
    "origin = torch.load('Correct_Activations.pt')\n",
    "failure = torch.load('conv1.weight.8631.unhappy.pt')"
   ]
  },
  {
   "cell_type": "code",
   "execution_count": 56,
   "metadata": {},
   "outputs": [],
   "source": [
    "notbad = torch.load('conv1.weight.5398.unhappy.pt')"
   ]
  },
  {
   "cell_type": "code",
   "execution_count": 45,
   "metadata": {},
   "outputs": [
    {
     "name": "stdout",
     "output_type": "stream",
     "text": [
      "tensor([3.6562e-03, 6.4930e-01, 5.1890e+00, 9.0669e+01, 2.5350e+01, 1.4966e+02,\n",
      "        9.7578e+02, 4.1031e+01, 8.5391e+02])\n"
     ]
    }
   ],
   "source": [
    "difference = torch.zeros(9)\n",
    "for i in range(20):\n",
    "    for j in range(9):\n",
    "        difference[j] += torch.nn.MSELoss()(origin[i][j],failure[i][j])\n",
    "        \n",
    "print (difference)"
   ]
  },
  {
   "cell_type": "code",
   "execution_count": 58,
   "metadata": {},
   "outputs": [
    {
     "name": "stdout",
     "output_type": "stream",
     "text": [
      "tensor([5.8700e-06, 3.2184e-02, 2.6204e-01, 4.5242e+00, 2.3237e+00, 1.6160e+01,\n",
      "        1.3838e+02, 8.8226e+00, 1.7903e+02])\n"
     ]
    }
   ],
   "source": [
    "lowdiff = torch.zeros(9)\n",
    "for i in range(20):\n",
    "    for j in range(9):\n",
    "        lowdiff[j] += torch.nn.MSELoss()(origin[i][j],notbad[i][j])\n",
    "        \n",
    "print (lowdiff)"
   ]
  },
  {
   "cell_type": "code",
   "execution_count": 37,
   "metadata": {},
   "outputs": [
    {
     "data": {
      "text/plain": [
       "tensor(57.0216)"
      ]
     },
     "execution_count": 37,
     "metadata": {},
     "output_type": "execute_result"
    }
   ],
   "source": [
    "torch.nn.MSELoss()(origin[0][8][0],failure[0][8][0])"
   ]
  },
  {
   "cell_type": "code",
   "execution_count": 34,
   "metadata": {},
   "outputs": [
    {
     "data": {
      "text/plain": [
       "torch.Size([512, 10, 8, 8])"
      ]
     },
     "execution_count": 34,
     "metadata": {},
     "output_type": "execute_result"
    }
   ],
   "source": [
    "origin[0][8].size()"
   ]
  },
  {
   "cell_type": "code",
   "execution_count": 53,
   "metadata": {},
   "outputs": [
    {
     "name": "stdout",
     "output_type": "stream",
     "text": [
      "5398\n"
     ]
    }
   ],
   "source": [
    "a = np.load('../Results/neg_div_4/0.weight.neg.npy')\n",
    "print(a[:,1].argsort()[len(a)/3])"
   ]
  },
  {
   "cell_type": "code",
   "execution_count": 54,
   "metadata": {},
   "outputs": [
    {
     "data": {
      "text/plain": [
       "0.14000000000000057"
      ]
     },
     "execution_count": 54,
     "metadata": {},
     "output_type": "execute_result"
    }
   ],
   "source": [
    "a[5398,1]"
   ]
  },
  {
   "cell_type": "code",
   "execution_count": null,
   "metadata": {},
   "outputs": [],
   "source": []
  }
 ],
 "metadata": {
  "kernelspec": {
   "display_name": "Python 2",
   "language": "python",
   "name": "python2"
  },
  "language_info": {
   "codemirror_mode": {
    "name": "ipython",
    "version": 2
   },
   "file_extension": ".py",
   "mimetype": "text/x-python",
   "name": "python",
   "nbconvert_exporter": "python",
   "pygments_lexer": "ipython2",
   "version": "2.7.12"
  }
 },
 "nbformat": 4,
 "nbformat_minor": 2
}
