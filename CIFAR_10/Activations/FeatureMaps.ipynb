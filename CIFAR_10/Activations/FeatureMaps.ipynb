{
 "cells": [
  {
   "cell_type": "code",
   "execution_count": 2,
   "metadata": {},
   "outputs": [],
   "source": [
    "import torch\n",
    "import matplotlib.pyplot as plt\n",
    "import numpy as np\n",
    "import pylab\n",
    "import scipy.stats as st\n",
    "%matplotlib inline"
   ]
  },
  {
   "cell_type": "code",
   "execution_count": 3,
   "metadata": {},
   "outputs": [],
   "source": [
    "Good = torch.load(\"Correct_Activations.pt\")\n",
    "Bad = torch.load(\"conv1.weight.12611.unhappy.pt\")"
   ]
  },
  {
   "cell_type": "code",
   "execution_count": 51,
   "metadata": {},
   "outputs": [],
   "source": [
    "Diff = Good[0][0][1] - Bad[0][0][1]"
   ]
  },
  {
   "cell_type": "code",
   "execution_count": 52,
   "metadata": {},
   "outputs": [
    {
     "name": "stdout",
     "output_type": "stream",
     "text": [
      "tensor(-0.0163)\n",
      "tensor(0.1915)\n"
     ]
    },
    {
     "data": {
      "image/png": "[encoded data removed]",
      "text/plain": [
       "<Figure size 432x288 with 1 Axes>"
      ]
     },
     "metadata": {},
     "output_type": "display_data"
    }
   ],
   "source": [
    "i = 0\n",
    "for FM in Diff:\n",
    "    if FM.sum() !=0:\n",
    "        thelist = []\n",
    "        for d in FM.view(-1):\n",
    "            if d !=0:\n",
    "                thelist += [float(d)]\n",
    "        plt.hist(thelist, bins = 100)\n",
    "        print(FM.mean())\n",
    "        print(Good[0][0][1][i]).mean()\n",
    "    i+=1"
   ]
  },
  {
   "cell_type": "code",
   "execution_count": 12,
   "metadata": {},
   "outputs": [
    {
     "name": "stdout",
     "output_type": "stream",
     "text": [
      "(1.2801262315520412, 0.566214079106921, 0.9307812004807465, 0.11821965469015075)\n",
      "(0.2780492387532273, -0.6079831335427908, -0.010153864617245802, 0.08686751134390384)\n",
      "0.562271296978\n",
      "(1.3953840710785304, 0.48574118455545207, 0.9443478223558583, 0.11442734909360368)\n",
      "(0.3346331938734516, -0.3237795702007607, -0.0067593034335237685, 0.08310255551292403)\n",
      "0.399051040411\n",
      "(1.428497468006364, 0.46240167530924803, 0.9365189083682098, 0.11996549255013202)\n",
      "(0.28554769570670896, -0.3322814652258487, -0.008562053561278222, 0.08012262074275822)\n",
      "0.393340975046\n",
      "(1.3494161698092355, 0.4116901276437882, 0.9293030648975305, 0.1218109437312882)\n",
      "(0.21437187579383488, -0.4035854300744555, -0.0038791508407139234, 0.08212190519333804)\n",
      "0.383727431297\n",
      "(1.2616215963959585, 0.4821741813297373, 0.9336247751447035, 0.11474229412442194)\n",
      "(0.26847207516050886, -0.5603912403787108, -0.004038907012023846, 0.08161326094883475)\n",
      "0.455476641655\n",
      "(1.281833616328607, 0.4290256072495047, 0.92174323405657, 0.12367264530646935)\n",
      "(0.26523447361739294, -0.39250052841412575, -0.0020839637309120773, 0.08110023211593953)\n",
      "0.442968130112\n",
      "(1.3082854779613826, 0.5268687159609399, 0.9346722805641605, 0.11603793606854354)\n",
      "(0.26176312298180954, -0.5045038416417963, -0.0055482004584763, 0.08271780600895022)\n",
      "0.328720837831\n",
      "(1.2650008562716275, 0.5002721345027856, 0.9233455462364742, 0.11196354341238925)\n",
      "(0.22073062714823175, -0.3277159562941572, -0.0013884650547969384, 0.07976392766455859)\n",
      "0.237969040871\n",
      "(1.260430079215006, 0.27620767605571517, 0.9294686183636527, 0.1261825722961466)\n",
      "(0.2314073784467886, -0.423880742543972, -0.006478753494049598, 0.07933648951253178)\n",
      "0.530882835388\n",
      "(1.294596673186003, 0.5290397510202883, 0.9280260123083235, 0.11318216263085712)\n",
      "(0.2293417386939528, -0.2811993563276707, -0.0023229427820630785, 0.07716891233874257)\n",
      "0.305007368326\n",
      "(1.3510368186215982, 0.44424971841296246, 0.9278875214359721, 0.12207795602730089)\n",
      "(0.27630418757658026, -0.3634310693443502, -0.003697578527016139, 0.08488127853150274)\n",
      "0.233812019229\n",
      "(1.2521508365069227, 0.5182405754764714, 0.9343220173826717, 0.11796590926747898)\n",
      "(0.2735014629036445, -0.5422024748957306, -0.009136211102746886, 0.07868060064495322)\n",
      "0.392518609762\n",
      "(1.3341624842499837, 0.579112382941854, 0.9268672313928685, 0.11493090555567692)\n",
      "(0.3355350582366044, -0.4710292674610418, -0.0018451804711599633, 0.07351146602614816)\n",
      "0.349200487137\n",
      "(1.2343424516914987, 0.561722462999607, 0.9302811410026356, 0.11708947846354921)\n",
      "(0.2539355971108356, -0.4048923368418386, 0.0037731473773627037, 0.08032196323759021)\n",
      "0.304656654596\n",
      "(1.3998213901961252, 0.45572771255410666, 0.9380279869688479, 0.11897329578583418)\n",
      "(0.32805264084529, -0.5304062012349479, -0.014310210002717007, 0.08248970998842371)\n",
      "0.519027888775\n",
      "(1.278370245812269, 0.471469537895437, 0.9294115406764988, 0.11727772186417681)\n",
      "(0.2945959426119963, -0.2752345561712366, -0.004413782382105027, 0.0723500376136036)\n",
      "0.44984126091\n",
      "(1.3973809249088778, 0.5846353489592492, 0.9403242101827263, 0.1172439359309817)\n",
      "(0.23054883864648731, -0.47953618259002534, -0.009412793360556735, 0.08234357530979527)\n",
      "0.473727613688\n",
      "(1.3479254379508119, 0.49567432040298753, 0.9286981695897814, 0.12073723599095372)\n",
      "(0.22499048936528615, -0.4637412246017212, -0.0017468476638118349, 0.08101000296857154)\n",
      "0.26507255435\n",
      "(1.2781983275886197, 0.3713085813564033, 0.9310374749560039, 0.12182659585230465)\n",
      "(0.3884569409036582, -0.40429564116591654, 0.00031255847426141757, 0.08136765170038489)\n",
      "0.215293839574\n"
     ]
    }
   ],
   "source": [
    "import warnings\n",
    "import scipy.stats as st\n",
    "def best_fit_distribution(data, bins=200, ax=None):\n",
    "    \"\"\"Model data by finding best fit distribution to data\"\"\"\n",
    "    # Get histogram of original data\n",
    "    y, x = np.histogram(data, bins=bins, density=True)\n",
    "    x = (x + np.roll(x, -1))[:-1] / 2.0\n",
    "\n",
    "    # Distributions to check\n",
    "    DISTRIBUTIONS = [        \n",
    "        st.alpha,st.anglit,st.arcsine,st.beta,st.betaprime,st.bradford,st.burr,st.cauchy,st.chi,st.chi2,st.cosine,\n",
    "        st.dgamma,st.dweibull,st.erlang,st.expon,st.exponnorm,st.exponweib,st.exponpow,st.f,st.fatiguelife,st.fisk,\n",
    "        st.foldcauchy,st.foldnorm,st.frechet_r,st.frechet_l,st.genlogistic,st.genpareto,st.gennorm,st.genexpon,\n",
    "        st.genextreme,st.gausshyper,st.gamma,st.gengamma,st.genhalflogistic,st.gilbrat,st.gompertz,st.gumbel_r,\n",
    "        st.gumbel_l,st.halfcauchy,st.halflogistic,st.halfnorm,st.halfgennorm,st.hypsecant,st.invgamma,st.invgauss,\n",
    "        st.invweibull,st.johnsonsb,st.johnsonsu,st.ksone,st.kstwobign,st.laplace,st.levy,st.levy_l,st.levy_stable,\n",
    "        st.logistic,st.loggamma,st.loglaplace,st.lognorm,st.lomax,st.maxwell,st.mielke,st.nakagami,st.ncx2,st.ncf,\n",
    "        st.nct,st.norm,st.pareto,st.pearson3,st.powerlaw,st.powerlognorm,st.powernorm,st.rdist,st.reciprocal,\n",
    "        st.rayleigh,st.rice,st.recipinvgauss,st.semicircular,st.t,st.triang,st.truncexpon,st.truncnorm,st.tukeylambda,\n",
    "        st.uniform,st.vonmises,st.vonmises_line,st.wald,st.weibull_min,st.weibull_max,st.wrapcauchy\n",
    "    ]\n",
    "\n",
    "    # Best holders\n",
    "    best_distribution = st.norm\n",
    "    best_params = (0.123, 1.0)\n",
    "    best_sse = np.inf\n",
    "\n",
    "    # Estimate distribution parameters from data\n",
    "    bad = 0\n",
    "    for distribution in DISTRIBUTIONS:\n",
    "\n",
    "        # Try to fit the distribution\n",
    "        try:\n",
    "            # Ignore warnings from data that can't be fit\n",
    "            with warnings.catch_warnings():\n",
    "                warnings.filterwarnings('ignore')\n",
    "\n",
    "                # fit dist to data\n",
    "                params = distribution.fit(data)\n",
    "\n",
    "                # Separate parts of parameters\n",
    "                arg = params[:-2]\n",
    "                loc = params[-2]\n",
    "                scale = params[-1]\n",
    "\n",
    "                # Calculate fitted PDF and error with fit in distribution\n",
    "                pdf = distribution.pdf(x, loc=loc, scale=scale, *arg)\n",
    "                sse = np.sum(np.power(y - pdf, 2.0))\n",
    "\n",
    "                # if axis pass in add to plot\n",
    "                try:\n",
    "                    if ax:\n",
    "                        pd.Series(pdf, x).plot(ax=ax)\n",
    "                    end\n",
    "                except Exception:\n",
    "                    pass\n",
    "\n",
    "                # identify if this distribution is better\n",
    "                if best_sse > sse > 0:\n",
    "                    best_distribution = distribution\n",
    "                    best_params = params\n",
    "                    best_sse = sse\n",
    "\n",
    "        except Exception:\n",
    "            print distribution\n",
    "            pass\n",
    "\n",
    "            \n",
    "    print (float(bad)/float(len(DISTRIBUTIONS)))\n",
    "\n",
    "    return (best_distribution.name, best_params)\n",
    "\n",
    "for k in range(19):\n",
    "    alist = []\n",
    "    blist = []\n",
    "    for i in range(512):\n",
    "        Diff = Good[k][0][i] - Bad[k][0][i]\n",
    "        for FM in Diff:\n",
    "            if FM.sum() !=0:\n",
    "                thelist = []\n",
    "                for d in FM.view(-1):\n",
    "                    if d !=0:\n",
    "                        thelist += [float(d)]\n",
    "        #print (i, best_fit_distribution(thelist, bins=100, ax=None))\n",
    "        alist += [np.array(thelist).std()/float(Good[k][0][i].std())]\n",
    "        blist += [np.array(thelist).mean()]\n",
    "\n",
    "    alist = np.array(alist)\n",
    "    blist = np.array(blist)\n",
    "    print(alist.max(), alist.min(), alist.mean(), alist.std())\n",
    "    print(blist.max(), blist.min(), blist.mean(), blist.std())\n",
    "    print(float(Good[k][0][i].mean() ))"
   ]
  },
  {
   "cell_type": "markdown",
   "metadata": {},
   "source": [
    "### 000\n",
    "('burr',\n",
    " (43.57119562700025,\n",
    "  0.563792991710589,\n",
    "  -15.037951857172702,\n",
    "  15.398232644616781))\n",
    "### 001\n",
    "('gennorm', (0.6865429016925316, -0.044040209988511825, 0.13280272917837677))"
   ]
  },
  {
   "cell_type": "code",
   "execution_count": 12,
   "metadata": {},
   "outputs": [],
   "source": [
    "a = [1,2,3,4]\n",
    "import numpy as np\n",
    "a = {'sfd':1, \"sdf\":2}\n",
    "np.save('file',a)"
   ]
  },
  {
   "cell_type": "code",
   "execution_count": 16,
   "metadata": {},
   "outputs": [
    {
     "name": "stdout",
     "output_type": "stream",
     "text": [
      "{'sfd': 1, 'sdf': 2}\n"
     ]
    }
   ],
   "source": [
    "c = np.load('file.npy')\n",
    "print(c)"
   ]
  },
  {
   "cell_type": "code",
   "execution_count": 17,
   "metadata": {},
   "outputs": [],
   "source": [
    "a = np.zeros([1,2])"
   ]
  },
  {
   "cell_type": "code",
   "execution_count": 18,
   "metadata": {},
   "outputs": [
    {
     "name": "stdout",
     "output_type": "stream",
     "text": [
      "[[0. 0.]]\n"
     ]
    }
   ],
   "source": [
    "print(a)"
   ]
  },
  {
   "cell_type": "code",
   "execution_count": null,
   "metadata": {},
   "outputs": [],
   "source": []
  }
 ],
 "metadata": {
  "kernelspec": {
   "display_name": "Python2 (py2env)",
   "language": "python",
   "name": "testenv"
  },
  "language_info": {
   "codemirror_mode": {
    "name": "ipython",
    "version": 2
   },
   "file_extension": ".py",
   "mimetype": "text/x-python",
   "name": "python",
   "nbconvert_exporter": "python",
   "pygments_lexer": "ipython2",
   "version": "2.7.12"
  }
 },
 "nbformat": 4,
 "nbformat_minor": 2
}
