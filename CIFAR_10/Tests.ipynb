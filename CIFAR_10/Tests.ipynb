{
 "cells": [
  {
   "cell_type": "code",
   "execution_count": 1,
   "metadata": {},
   "outputs": [],
   "source": [
    "import torch"
   ]
  },
  {
   "cell_type": "code",
   "execution_count": 7,
   "metadata": {},
   "outputs": [],
   "source": [
    "a = torch.load('models/nin_halfadd.pth.tar')"
   ]
  },
  {
   "cell_type": "code",
   "execution_count": 8,
   "metadata": {},
   "outputs": [],
   "source": [
    "conv1 = a['state_dict']['conv1.weight']\n",
    "conv2 = a['state_dict']['conv1_1.weight']"
   ]
  },
  {
   "cell_type": "code",
   "execution_count": 10,
   "metadata": {},
   "outputs": [
    {
     "name": "stdout",
     "output_type": "stream",
     "text": [
      "0.9725\n"
     ]
    }
   ],
   "source": [
    "def compare_float(mat1, mat2, rDelt=0.01, aDelt=None):\n",
    "    if aDelt != None:\n",
    "        res = (abs(mat1 - mat2) < aDelt)\n",
    "    else:\n",
    "        res = (((2*abs(mat1 - mat2))/(abs(mat1 + mat2))) < rDelt)\n",
    "    return res\n",
    "    \n",
    "print (float(compare_float(conv1, conv2, rDelt = 0.00001).sum())/float(conv1.view(-1).size()[0]))"
   ]
  },
  {
   "cell_type": "code",
   "execution_count": null,
   "metadata": {},
   "outputs": [],
   "source": []
  }
 ],
 "metadata": {
  "kernelspec": {
   "display_name": "Python2 (py2env)",
   "language": "python",
   "name": "testenv"
  },
  "language_info": {
   "codemirror_mode": {
    "name": "ipython",
    "version": 2
   },
   "file_extension": ".py",
   "mimetype": "text/x-python",
   "name": "python",
   "nbconvert_exporter": "python",
   "pygments_lexer": "ipython2",
   "version": "2.7.12"
  }
 },
 "nbformat": 4,
 "nbformat_minor": 2
}
