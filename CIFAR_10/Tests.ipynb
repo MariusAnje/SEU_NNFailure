{
 "cells": [
  {
   "cell_type": "code",
   "execution_count": 1,
   "metadata": {},
   "outputs": [],
   "source": [
    "import torch"
   ]
  },
  {
   "cell_type": "code",
   "execution_count": 7,
   "metadata": {},
   "outputs": [],
   "source": [
    "a = torch.load('models/nin_halfadd.pth.tar')"
   ]
  },
  {
   "cell_type": "code",
   "execution_count": 8,
   "metadata": {},
   "outputs": [],
   "source": [
    "conv1 = a['state_dict']['conv1.weight']\n",
    "conv2 = a['state_dict']['conv1_1.weight']"
   ]
  },
  {
   "cell_type": "code",
   "execution_count": 10,
   "metadata": {},
   "outputs": [
    {
     "name": "stdout",
     "output_type": "stream",
     "text": [
      "0.9725\n"
     ]
    }
   ],
   "source": [
    "def compare_float(mat1, mat2, rDelt=0.01, aDelt=None):\n",
    "    if aDelt != None:\n",
    "        res = (abs(mat1 - mat2) < aDelt)\n",
    "    else:\n",
    "        res = (((2*abs(mat1 - mat2))/(abs(mat1 + mat2))) < rDelt)\n",
    "    return res\n",
    "    \n",
    "print (float(compare_float(conv1, conv2, rDelt = 0.00001).sum())/float(conv1.view(-1).size()[0]))"
   ]
  },
  {
   "cell_type": "code",
   "execution_count": 1,
   "metadata": {},
   "outputs": [
    {
     "name": "stdout",
     "output_type": "stream",
     "text": [
      "[0, 1, 2]\n"
     ]
    }
   ],
   "source": [
    "print(range(3))"
   ]
  },
  {
   "cell_type": "code",
   "execution_count": 2,
   "metadata": {},
   "outputs": [],
   "source": [
    "from models import nin_crazy\n",
    "from models import nin_halfadd"
   ]
  },
  {
   "cell_type": "code",
   "execution_count": 3,
   "metadata": {},
   "outputs": [],
   "source": [
    "model = nin_crazy.Net()\n",
    "model2 = nin_halfadd.Net()\n",
    "para2_file = torch.load(\"models/nin_crazy.ONE.pth.tar\")\n",
    "para2 = para2_file['state_dict']"
   ]
  },
  {
   "cell_type": "code",
   "execution_count": 8,
   "metadata": {},
   "outputs": [],
   "source": [
    "def load_pretrained(model, filePath, same):\n",
    "    pretrained_model = torch.load(filePath)\n",
    "    useState_dict = model.state_dict()\n",
    "    preState_dict = pretrained_model['state_dict']\n",
    "    best_acc = pretrained_model['best_acc']\n",
    "\n",
    "    if same:\n",
    "        useState_dict = preState_dict\n",
    "    else:\n",
    "        useKeys = useState_dict.keys()\n",
    "        preKeys = preState_dict.keys()\n",
    "        j = 0\n",
    "        for key in useKeys:\n",
    "\n",
    "            if j == 59:\n",
    "                j = 0\n",
    "            useState_dict[key].data = preState_dict[preKeys[j]].data\n",
    "            j +=1\n",
    "    model.load_state_dict(useState_dict)\n",
    "    return model"
   ]
  },
  {
   "cell_type": "code",
   "execution_count": 9,
   "metadata": {},
   "outputs": [],
   "source": [
    "elsemodel = load_pretrained(model = model2, filePath = \"models/nin_crazy.2d.pth.tar\", same = False)"
   ]
  },
  {
   "cell_type": "code",
   "execution_count": 17,
   "metadata": {},
   "outputs": [],
   "source": [
    "def ExBitInverse(x):\n",
    "    Expo = (x.log2().floor())\n",
    "    num = x * pow(2,2 * (-Expo))\n",
    "    return num"
   ]
  },
  {
   "cell_type": "code",
   "execution_count": 28,
   "metadata": {},
   "outputs": [
    {
     "name": "stdout",
     "output_type": "stream",
     "text": [
      "(tensor([19.]), 0.07421875)\n",
      "(tensor([9.]), 0.140625)\n",
      "(tensor([14.]), 0.21875)\n",
      "(tensor([0.]), nan)\n",
      "(tensor([19.]), 0.07421875)\n",
      "(tensor([5.]), 0.3125)\n",
      "(tensor([4.]), 0.25)\n",
      "(tensor([9.]), 0.140625)\n",
      "(tensor([5.]), 0.3125)\n",
      "(tensor([0.]), nan)\n"
     ]
    }
   ],
   "source": [
    "for _ in range(10):\n",
    "    a = torch.randint(0,20,[1]).to(torch.float32)\n",
    "    #a = torch.Tensor([8])\n",
    "    num = ExBitInverse(a) \n",
    "    print(a, num.item())"
   ]
  },
  {
   "cell_type": "code",
   "execution_count": 7,
   "metadata": {},
   "outputs": [
    {
     "name": "stdout",
     "output_type": "stream",
     "text": [
      "tensor([[  364.2174,  1077.2487, -1976.3032,   823.4763,   -17.1071,   155.8600],\n",
      "        [  167.6001, -2167.5969,  1640.8624,  1372.7747,   363.8687, -1409.4314],\n",
      "        [ -364.8358,   792.5723,  1474.2889,  -392.2496,  1006.5197, -1154.2645],\n",
      "        [ -803.0588,  1037.0364,  1062.8910, -1036.6257,   183.8918,   635.3771],\n",
      "        [  -58.4625, -1998.2662,    13.5549,   706.7608,  -376.5291,  -661.2606]])\n"
     ]
    }
   ],
   "source": [
    "b = torch.randn([3,4,5,6])\n",
    "mean = 10\n",
    "std = 1000\n",
    "size = b[0,0,:,:].size()\n",
    "a = torch.normal(mean = mean * torch.ones(size), std = std)\n",
    "print(a)"
   ]
  },
  {
   "cell_type": "code",
   "execution_count": null,
   "metadata": {},
   "outputs": [],
   "source": []
  }
 ],
 "metadata": {
  "kernelspec": {
   "display_name": "Python2 (py2env)",
   "language": "python",
   "name": "testenv"
  },
  "language_info": {
   "codemirror_mode": {
    "name": "ipython",
    "version": 2
   },
   "file_extension": ".py",
   "mimetype": "text/x-python",
   "name": "python",
   "nbconvert_exporter": "python",
   "pygments_lexer": "ipython2",
   "version": "2.7.12"
  }
 },
 "nbformat": 4,
 "nbformat_minor": 2
}
