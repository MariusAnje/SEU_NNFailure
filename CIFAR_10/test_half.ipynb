{
 "cells": [
  {
   "cell_type": "code",
   "execution_count": 1,
   "metadata": {},
   "outputs": [],
   "source": [
    "from __future__ import absolute_import\n",
    "from __future__ import division\n",
    "from __future__ import print_function\n",
    "import torch\n",
    "from models import nin_halfadd\n",
    "import data\n",
    "import util_fuc as util\n",
    "\n",
    "def load_pretrained(filePath):\n",
    "    model = nin_halfadd.Net()\n",
    "    pretrained_model = torch.load(filePath)\n",
    "    useState_dict = model.state_dict()\n",
    "    preState_dict = pretrained_model['state_dict']\n",
    "    useKeys = useState_dict.keys()\n",
    "    preKeys = preState_dict.keys()\n",
    "    j = 0\n",
    "    print (len(useKeys))\n",
    "    print (len(preKeys))\n",
    "    for key in useKeys:\n",
    "        if j == 50:\n",
    "            j = 0\n",
    "        if key.find('num_batches_tracked') == -1:\n",
    "            useState_dict[key].data = preState_dict[preKeys[j]].data\n",
    "            print (key , preKeys[j])\n",
    "            j +=1\n",
    "    model.load_state_dict(useState_dict)\n",
    "    model.to(device)\n",
    "    return model"
   ]
  },
  {
   "cell_type": "code",
   "execution_count": 2,
   "metadata": {},
   "outputs": [
    {
     "name": "stdout",
     "output_type": "stream",
     "text": [
      "64\n",
      "50\n",
      "conv1.weight xnor.0.weight\n",
      "conv1.bias xnor.0.bias\n",
      "bn1.running_mean xnor.1.running_mean\n",
      "bn1.running_var xnor.1.running_var\n",
      "bconv2.bn.weight xnor.3.bn.weight\n",
      "bconv2.bn.bias xnor.3.bn.bias\n",
      "bconv2.bn.running_mean xnor.3.bn.running_mean\n",
      "bconv2.bn.running_var xnor.3.bn.running_var\n",
      "bconv2.conv.weight xnor.3.conv.weight\n",
      "bconv2.conv.bias xnor.3.conv.bias\n",
      "bconv3.bn.weight xnor.4.bn.weight\n",
      "bconv3.bn.bias xnor.4.bn.bias\n",
      "bconv3.bn.running_mean xnor.4.bn.running_mean\n",
      "bconv3.bn.running_var xnor.4.bn.running_var\n",
      "bconv3.conv.weight xnor.4.conv.weight\n",
      "bconv3.conv.bias xnor.4.conv.bias\n",
      "bconv4.bn.weight xnor.6.bn.weight\n",
      "bconv4.bn.bias xnor.6.bn.bias\n",
      "bconv4.bn.running_mean xnor.6.bn.running_mean\n",
      "bconv4.bn.running_var xnor.6.bn.running_var\n",
      "bconv4.conv.weight xnor.6.conv.weight\n",
      "bconv4.conv.bias xnor.6.conv.bias\n",
      "bconv5.bn.weight xnor.7.bn.weight\n",
      "bconv5.bn.bias xnor.7.bn.bias\n",
      "bconv5.bn.running_mean xnor.7.bn.running_mean\n",
      "bconv5.bn.running_var xnor.7.bn.running_var\n",
      "bconv5.conv.weight xnor.7.conv.weight\n",
      "bconv5.conv.bias xnor.7.conv.bias\n",
      "bconv6.bn.weight xnor.8.bn.weight\n",
      "bconv6.bn.bias xnor.8.bn.bias\n",
      "bconv6.bn.running_mean xnor.8.bn.running_mean\n",
      "bconv6.bn.running_var xnor.8.bn.running_var\n",
      "bconv6.conv.weight xnor.8.conv.weight\n",
      "bconv6.conv.bias xnor.8.conv.bias\n",
      "bconv7.bn.weight xnor.10.bn.weight\n",
      "bconv7.bn.bias xnor.10.bn.bias\n",
      "bconv7.bn.running_mean xnor.10.bn.running_mean\n",
      "bconv7.bn.running_var xnor.10.bn.running_var\n",
      "bconv7.conv.weight xnor.10.conv.weight\n",
      "bconv7.conv.bias xnor.10.conv.bias\n",
      "bconv8.bn.weight xnor.11.bn.weight\n",
      "bconv8.bn.bias xnor.11.bn.bias\n",
      "bconv8.bn.running_mean xnor.11.bn.running_mean\n",
      "bconv8.bn.running_var xnor.11.bn.running_var\n",
      "bconv8.conv.weight xnor.11.conv.weight\n",
      "bconv8.conv.bias xnor.11.conv.bias\n",
      "bn2.running_mean xnor.12.running_mean\n",
      "bn2.running_var xnor.12.running_var\n",
      "conv9.weight xnor.13.weight\n",
      "conv9.bias xnor.13.bias\n",
      "conv1_1.weight xnor.0.weight\n",
      "conv1_1.bias xnor.0.bias\n",
      "bn1_1.running_mean xnor.1.running_mean\n",
      "bn1_1.running_var xnor.1.running_var\n"
     ]
    }
   ],
   "source": [
    "testset = data.dataset(root='./data/', train=False)\n",
    "testloader = torch.utils.data.DataLoader(testset,\n",
    "                             batch_size=512, shuffle=False, num_workers=4)\n",
    "device = torch.device('cuda:1' if torch.cuda.is_available() else \"cpu\")\n",
    "model = load_pretrained('nin.best.pth.tar')\n",
    "bin_op = util.BinOp(model)\n",
    "bin_op.binarization()\n",
    "model = model.eval()"
   ]
  },
  {
   "cell_type": "code",
   "execution_count": 3,
   "metadata": {},
   "outputs": [
    {
     "name": "stdout",
     "output_type": "stream",
     "text": [
      "86.28\n"
     ]
    }
   ],
   "source": [
    "correct = 0\n",
    "with torch.no_grad():\n",
    "    for image, target in testloader:\n",
    "        image, target = image.to(device), target.to(device)\n",
    "\n",
    "        output = model(image)\n",
    "        #test_loss += criterion(output, target).data.item()\n",
    "        pred = output.data.max(1, keepdim=True)[1]\n",
    "        correct += pred.eq(target.data.view_as(pred)).sum().cpu()\n",
    "bin_op.restore()\n",
    "acc = 100. * float(correct) / float(len(testloader.dataset))\n",
    "print(acc)"
   ]
  },
  {
   "cell_type": "code",
   "execution_count": null,
   "metadata": {},
   "outputs": [],
   "source": []
  }
 ],
 "metadata": {
  "kernelspec": {
   "display_name": "Python 2",
   "language": "python",
   "name": "python2"
  },
  "language_info": {
   "codemirror_mode": {
    "name": "ipython",
    "version": 2
   },
   "file_extension": ".py",
   "mimetype": "text/x-python",
   "name": "python",
   "nbconvert_exporter": "python",
   "pygments_lexer": "ipython2",
   "version": "2.7.12"
  }
 },
 "nbformat": 4,
 "nbformat_minor": 2
}
