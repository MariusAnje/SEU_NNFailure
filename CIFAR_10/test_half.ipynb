{
 "cells": [
  {
   "cell_type": "code",
   "execution_count": 4,
   "metadata": {},
   "outputs": [],
   "source": [
    "from __future__ import absolute_import\n",
    "from __future__ import division\n",
    "from __future__ import print_function\n",
    "import torch\n",
    "from models import nin_halfadd\n",
    "import data\n",
    "import util_fuc as util\n",
    "\n",
    "def load_pretrained(filePath):\n",
    "    model = nin_halfadd.Net()\n",
    "    pretrained_model = torch.load(filePath)\n",
    "    useState_dict = model.state_dict()\n",
    "    preState_dict = pretrained_model['state_dict']\n",
    "    useKeys = useState_dict.keys()\n",
    "    preKeys = preState_dict.keys()\n",
    "    j = 0\n",
    "    print (len(useKeys))\n",
    "    print (len(preKeys))\n",
    "    for key in useKeys:\n",
    "        if j == 50:\n",
    "            j = 0\n",
    "        if key.find('num_batches_tracked') == -1:\n",
    "            useState_dict[key].data = preState_dict[preKeys[j]].data\n",
    "            if key[-4:] != preKeys[j][-4:]:\n",
    "                print (key , preKeys[j])\n",
    "            j +=1\n",
    "    model.load_state_dict(useState_dict)\n",
    "    model.to(device)\n",
    "    return model"
   ]
  },
  {
   "cell_type": "code",
   "execution_count": 5,
   "metadata": {},
   "outputs": [
    {
     "name": "stdout",
     "output_type": "stream",
     "text": [
      "64\n",
      "50\n"
     ]
    }
   ],
   "source": [
    "testset = data.dataset(root='./data/', train=False)\n",
    "testloader = torch.utils.data.DataLoader(testset,\n",
    "                             batch_size=512, shuffle=False, num_workers=4)\n",
    "device = torch.device('cuda:1' if torch.cuda.is_available() else \"cpu\")\n",
    "model = load_pretrained('nin.best.pth.tar')\n",
    "bin_op = util.BinOp(model)\n",
    "bin_op.binarization()\n",
    "model = model.eval()"
   ]
  },
  {
   "cell_type": "code",
   "execution_count": 6,
   "metadata": {},
   "outputs": [
    {
     "name": "stdout",
     "output_type": "stream",
     "text": [
      "86.28\n"
     ]
    }
   ],
   "source": [
    "correct = 0\n",
    "with torch.no_grad():\n",
    "    for image, target in testloader:\n",
    "        image, target = image.to(device), target.to(device)\n",
    "\n",
    "        output = model(image)\n",
    "        #test_loss += criterion(output, target).data.item()\n",
    "        pred = output.data.max(1, keepdim=True)[1]\n",
    "        correct += pred.eq(target.data.view_as(pred)).sum().cpu()\n",
    "bin_op.restore()\n",
    "acc = 100. * float(correct) / float(len(testloader.dataset))\n",
    "print(acc)"
   ]
  },
  {
   "cell_type": "code",
   "execution_count": null,
   "metadata": {},
   "outputs": [],
   "source": []
  }
 ],
 "metadata": {
  "kernelspec": {
   "display_name": "Python 2",
   "language": "python",
   "name": "python2"
  },
  "language_info": {
   "codemirror_mode": {
    "name": "ipython",
    "version": 2
   },
   "file_extension": ".py",
   "mimetype": "text/x-python",
   "name": "python",
   "nbconvert_exporter": "python",
   "pygments_lexer": "ipython2",
   "version": "2.7.12"
  }
 },
 "nbformat": 4,
 "nbformat_minor": 2
}
