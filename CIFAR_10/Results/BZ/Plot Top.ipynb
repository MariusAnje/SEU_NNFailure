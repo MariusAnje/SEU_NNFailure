{
 "cells": [
  {
   "cell_type": "code",
   "execution_count": 1,
   "metadata": {},
   "outputs": [],
   "source": [
    "import numpy as np\n",
    "import os"
   ]
  },
  {
   "cell_type": "code",
   "execution_count": 9,
   "metadata": {},
   "outputs": [],
   "source": [
    "output = os.popen('cd Res56; ls |grep npy')\n",
    "files = output.read()\n",
    "filearray = files.split('\\n')[:-1]\n",
    "\n",
    "def Tops(filepath):\n",
    "    result = np.load(filepath)\n",
    "    result = result[:,1]\n",
    "    theTops = result.argsort()[-1000:]\n",
    "    return theTops"
   ]
  },
  {
   "cell_type": "code",
   "execution_count": 10,
   "metadata": {},
   "outputs": [],
   "source": [
    "theTops = []\n",
    "for subfile in filearray:\n",
    "    theTops += list(Tops(subfile))"
   ]
  },
  {
   "cell_type": "code",
   "execution_count": 11,
   "metadata": {},
   "outputs": [
    {
     "name": "stdout",
     "output_type": "stream",
     "text": [
      "(954, 2957)\n"
     ]
    }
   ],
   "source": [
    "allitems = []\n",
    "for item in theTops:\n",
    "    if not item in allitems:\n",
    "        allitems += [item]\n",
    "\n",
    "large = 0\n",
    "small = 0\n",
    "for item in allitems:\n",
    "    if theTops.count(item) > 3:\n",
    "        large += 1\n",
    "    else:\n",
    "        small += 1\n",
    "print (large, small)"
   ]
  },
  {
   "cell_type": "code",
   "execution_count": null,
   "metadata": {},
   "outputs": [],
   "source": []
  }
 ],
 "metadata": {
  "kernelspec": {
   "display_name": "Python2 (py2env)",
   "language": "python",
   "name": "testenv"
  },
  "language_info": {
   "codemirror_mode": {
    "name": "ipython",
    "version": 2
   },
   "file_extension": ".py",
   "mimetype": "text/x-python",
   "name": "python",
   "nbconvert_exporter": "python",
   "pygments_lexer": "ipython2",
   "version": "2.7.12"
  }
 },
 "nbformat": 4,
 "nbformat_minor": 2
}
