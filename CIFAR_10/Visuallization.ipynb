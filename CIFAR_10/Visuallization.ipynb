{
 "cells": [
  {
   "cell_type": "code",
   "execution_count": 2,
   "metadata": {},
   "outputs": [],
   "source": [
    "import matplotlib.pyplot as plt\n",
    "import numpy as np\n",
    "import pylab\n",
    "import scipy.stats as st\n",
    "%matplotlib inline"
   ]
  },
  {
   "cell_type": "code",
   "execution_count": 3,
   "metadata": {
    "scrolled": true
   },
   "outputs": [
    {
     "name": "stdout",
     "output_type": "stream",
     "text": [
      "(14400, 2)\n"
     ]
    }
   ],
   "source": [
    "a =  np.load(\"0.weight.neg.npy\")\n",
    "print(a.shape)"
   ]
  },
  {
   "cell_type": "code",
   "execution_count": 4,
   "metadata": {},
   "outputs": [],
   "source": [
    "shape = [(192, 3, 5, 5),(160, 192, 1, 1),(96, 160, 1, 1),(192, 96, 5, 5),(192, 192, 1, 1),(192, 192, 1, 1),(192, 192, 3, 3),(192, 192, 1, 1),(10, 192, 1, 1)]\n",
    "b = np.zeros(shape[0])\n",
    "size0 = b.shape[0]\n",
    "size1 = b.shape[1]\n",
    "size2 = b.shape[2]\n",
    "size3 = b.shape[3]\n",
    "for t in range(len(a)):\n",
    "    i = a[t][0]\n",
    "    b[int(i/size1/size2/size3)][int(i/size2/size3%size1)][int(i/size3%size2)][int(i%size3)] = a[t][1]"
   ]
  },
  {
   "cell_type": "code",
   "execution_count": 5,
   "metadata": {},
   "outputs": [
    {
     "name": "stdout",
     "output_type": "stream",
     "text": [
      "[[447. 451. 445. 458. 442.]\n",
      " [445. 440. 448. 450. 451.]\n",
      " [446. 451. 453. 447. 457.]\n",
      " [451. 454. 455. 457. 454.]\n",
      " [444. 449. 454. 453. 449.]]\n"
     ]
    }
   ],
   "source": [
    "c = b.swapaxes(1,3)\n",
    "c = (c>0.01) * 1.0\n",
    "TheMap = np.zeros([size2,size3])\n",
    "for i in range(size0):\n",
    "    for j in range(size2):\n",
    "        for k in range(size3):\n",
    "            for l in range(size1):\n",
    "                TheMap[j][k] += c[i][j][k][l]\n",
    "print TheMap"
   ]
  },
  {
   "cell_type": "code",
   "execution_count": 6,
   "metadata": {},
   "outputs": [
    {
     "data": {
      "image/png": "[encoded data removed]",
      "text/plain": [
       "<Figure size 432x288 with 1 Axes>"
      ]
     },
     "metadata": {},
     "output_type": "display_data"
    }
   ],
   "source": [
    "n, bins, patches = plt.hist(a[:,1],40,histtype='bar')\n",
    "#n, bins, patches = plt.hist(b.reshape(-1),int(len(b.reshape(-1))/300),histtype='bar')"
   ]
  },
  {
   "cell_type": "code",
   "execution_count": 13,
   "metadata": {},
   "outputs": [
    {
     "data": {
      "text/plain": [
       "[<matplotlib.lines.Line2D at 0x7f53c84f3a10>]"
      ]
     },
     "execution_count": 13,
     "metadata": {},
     "output_type": "execute_result"
    },
    {
     "data": {
      "image/png": "[encoded data removed]",
      "text/plain": [
       "<Figure size 432x288 with 1 Axes>"
      ]
     },
     "metadata": {},
     "output_type": "display_data"
    }
   ],
   "source": [
    "pos = []\n",
    "for item in a[:,1]:\n",
    "    if abs(item) > 0.0001:\n",
    "        pos += [item]\n",
    "        \n",
    "fig, ax = plt.subplots(1, 1)\n",
    "n, bins, patches = ax.hist(pos,50,histtype='bar',density=True)\n",
    "params = st.norm.fit(pos,bins = 50, density = True)\n",
    "\n",
    "# Separate parts of parameters\n",
    "arg = params[:-2]\n",
    "loc = params[-2]\n",
    "scale = params[-1]\n",
    "\n",
    "# Calculate fitted PDF and error with fit in distribution\n",
    "x = np.linspace(min(pos),max(pos), 1000)\n",
    "pdf = st.norm.pdf(x, loc=loc, scale=scale, *arg)\n",
    "\n",
    "ax.plot(x,pdf,\n",
    "        'r-', lw=3, alpha=0.6, label='norm pdf')"
   ]
  },
  {
   "cell_type": "code",
   "execution_count": 15,
   "metadata": {},
   "outputs": [
    {
     "data": {
      "text/plain": [
       "<Figure size 432x288 with 0 Axes>"
      ]
     },
     "metadata": {},
     "output_type": "display_data"
    }
   ],
   "source": [
    "fig = plt.gcf()\n",
    "fig.savefig('CIFAR_10')"
   ]
  },
  {
   "cell_type": "code",
   "execution_count": null,
   "metadata": {},
   "outputs": [],
   "source": []
  }
 ],
 "metadata": {
  "kernelspec": {
   "display_name": "Python 2",
   "language": "python",
   "name": "python2"
  },
  "language_info": {
   "codemirror_mode": {
    "name": "ipython",
    "version": 2
   },
   "file_extension": ".py",
   "mimetype": "text/x-python",
   "name": "python",
   "nbconvert_exporter": "python",
   "pygments_lexer": "ipython2",
   "version": "2.7.12"
  }
 },
 "nbformat": 4,
 "nbformat_minor": 2
}
